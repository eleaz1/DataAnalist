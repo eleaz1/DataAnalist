{
  "nbformat": 4,
  "nbformat_minor": 0,
  "metadata": {
    "colab": {
      "provenance": [],
      "include_colab_link": true
    },
    "kernelspec": {
      "name": "python3",
      "display_name": "Python 3"
    },
    "language_info": {
      "name": "python"
    }
  },
  "cells": [
    {
      "cell_type": "markdown",
      "metadata": {
        "id": "view-in-github",
        "colab_type": "text"
      },
      "source": [
        "<a href=\"https://colab.research.google.com/github/eleaz1/DataAnalist/blob/main/Clases/Decision_Tree_Diciembre_BIT_IBERO.ipynb\" target=\"_parent\"><img src=\"https://colab.research.google.com/assets/colab-badge.svg\" alt=\"Open In Colab\"/></a>"
      ]
    },
    {
      "cell_type": "code",
      "execution_count": null,
      "metadata": {
        "id": "XzWVO-HMcYRG"
      },
      "outputs": [],
      "source": [
        "URL = \"https://raw.githubusercontent.com/it-ces/Datasets/main/basesuper.csv\""
      ]
    },
    {
      "cell_type": "code",
      "source": [
        "import pandas as pd"
      ],
      "metadata": {
        "id": "2W-c0Zf1lmdM"
      },
      "execution_count": null,
      "outputs": []
    },
    {
      "cell_type": "code",
      "source": [
        "df = pd.read_csv(URL)"
      ],
      "metadata": {
        "id": "bR8b5oo5lra5"
      },
      "execution_count": null,
      "outputs": []
    },
    {
      "cell_type": "code",
      "source": [
        "df['y'].value_counts()"
      ],
      "metadata": {
        "colab": {
          "base_uri": "https://localhost:8080/"
        },
        "id": "tKxBZMNGmNzO",
        "outputId": "c76d8162-9d19-44ad-951c-b52fe8619899"
      },
      "execution_count": null,
      "outputs": [
        {
          "output_type": "execute_result",
          "data": {
            "text/plain": [
              "y\n",
              "0    12598\n",
              "1      175\n",
              "Name: count, dtype: int64"
            ]
          },
          "metadata": {},
          "execution_count": 4
        }
      ]
    },
    {
      "cell_type": "code",
      "source": [
        "df.columns"
      ],
      "metadata": {
        "colab": {
          "base_uri": "https://localhost:8080/"
        },
        "id": "3I4pk-LOnNch",
        "outputId": "e07ec074-1297-488a-aa42-d2af3f2bf7c9"
      },
      "execution_count": null,
      "outputs": [
        {
          "output_type": "execute_result",
          "data": {
            "text/plain": [
              "Index(['Unnamed: 0', 'NIT', 'y', 'Ingresos de actividades ordinarias',\n",
              "       'Costo de ventas', 'Ganancia bruta', 'Otros ingresos',\n",
              "       'Gastos de ventas', 'Gastos de administración', 'Otros gastos',\n",
              "       'Otras ganancias (pérdidas)',\n",
              "       'Ganancia (pérdida) por actividades de operación',\n",
              "       'Ingresos financieros', 'Costos financieros',\n",
              "       'Ganancia (pérdida) antes de impuestos',\n",
              "       'Ingreso (gasto) por impuestos',\n",
              "       'Ganancia (pérdida) procedente de operaciones continuadas',\n",
              "       'Ganancia (pérdida) procedente de operaciones discontinuadas',\n",
              "       'Ganancia (pérdida)', 'punto de entrada', 'formulario',\n",
              "       'Razón social de la sociedad', 'Fecha de Corte',\n",
              "       'Clasificación Industrial Internacional Uniforme Versión 4 A.C',\n",
              "       'Tipo societario',\n",
              "       'Dirección de notificación judicial registrada en Cámara de Comercio',\n",
              "       'Departamento de la dirección del domicilio',\n",
              "       'Ciudad de la dirección del domicilio', 'Periodo',\n",
              "       'Efectivo y equivalentes al efectivo',\n",
              "       'Cuentas comerciales por cobrar y otras cuentas por cobrar corrientes',\n",
              "       'Inventarios corrientes', 'Activos por impuestos corrientes corriente',\n",
              "       'Activos biológicos corrientes al costo menos depreciación acumulada y deterioro de valor',\n",
              "       'Activos biológicos corrientes al valor razonable',\n",
              "       'Otros activos financieros corrientes',\n",
              "       'Otros activos no financieros corrientes',\n",
              "       'Activos corrientes distintos al efectivo pignorados como garantía colateral para las que el receptor de transferencias tiene derecho por contrato o costumbre a vender o pignorar de nuevo dicha garantía colateral',\n",
              "       'Total activos corrientes distintos de los activos no corrientes o grupo de activos para su disposición clasificados como mantenidos para la venta o como mantenidos para distribuir a los propietarios',\n",
              "       'Activos no corrientes o grupos de activos para su disposición clasificados como mantenidos para la venta o como mantenidos para distribuir a los propietarios',\n",
              "       'Activos corrientes totales', 'Propiedades planta y equipo',\n",
              "       'Propiedades de inversión al costo menos depreciación acumulada y deterioro',\n",
              "       'Propiedades de inversión a valor razonable con cambios en resultados',\n",
              "       'Plusvalía', 'Activos intangibles distintos de la plusvalía',\n",
              "       'Activos biológicos no corrientes al costo menos depreciación acumulada y deterioro del valor',\n",
              "       'Activos biológicos no corrientes al valor razonable',\n",
              "       'Cuentas comerciales por cobrar y otras cuentas por cobrar no corrientes',\n",
              "       'Inventarios no corrientes', 'Activos por impuestos diferidos',\n",
              "       'Activos por impuestos corrientes no corriente',\n",
              "       'Otros activos financieros no corrientes',\n",
              "       'Otros activos no financieros no corrientes',\n",
              "       'Activos no corrientes distintos al efectivo pignorados como garantía colateral para las que el receptor de transferencias tiene derecho por contrato o costumbre a vender o pignorar de nuevo dicha garantía colateral',\n",
              "       'Total de activos no corrientes', 'Total de activos',\n",
              "       'Provisiones corrientes por beneficios a los empleados',\n",
              "       'Otras provisiones corrientes', 'Total provisiones corrientes',\n",
              "       'Cuentas por pagar comerciales y otras cuentas por pagar',\n",
              "       'Pasivos por impuestos corrientes corriente',\n",
              "       'Otros pasivos financieros corrientes', 'Préstamos corrientes',\n",
              "       'Parte corriente de préstamos no corrientes',\n",
              "       'Otros pasivos no financieros corrientes',\n",
              "       'Total pasivos corrientes distintos de los pasivos incluidos en grupos de activos para su disposición clasificados como mantenidos para la venta',\n",
              "       'Pasivos incluidos en grupos de activos para su disposición clasificados como mantenidos para la venta',\n",
              "       'Pasivos corrientes totales',\n",
              "       'Provisiones no corrientes por beneficios a los empleados',\n",
              "       'Otras provisiones no corrientes', 'Total provisiones no corrientes',\n",
              "       'Cuentas comerciales por pagar y otras cuentas por pagar no corrientes',\n",
              "       'Pasivo por impuestos diferidos',\n",
              "       'Pasivos por impuestos corrientes no corriente',\n",
              "       'Otros pasivos financieros no corrientes',\n",
              "       'Parte no corriente de préstamos no corrientes',\n",
              "       'Otros pasivos no financieros no corrientes',\n",
              "       'Total de pasivos no corrientes', 'Total pasivos', 'Capital emitido',\n",
              "       'Prima de emisión', 'Acciones propias en cartera',\n",
              "       'Inversión suplementaria al capital asignado',\n",
              "       'Otras participaciones en el patrimonio', 'Superavit por revaluación',\n",
              "       'Otras reservas', 'Ganancias acumuladas', 'Patrimonio total',\n",
              "       'Total de patrimonio y pasivos', '_merge'],\n",
              "      dtype='object')"
            ]
          },
          "metadata": {},
          "execution_count": 5
        }
      ]
    },
    {
      "cell_type": "code",
      "source": [
        "X = ['Total pasivos', 'Ganancia (pérdida)',  'Activos corrientes totales' ,  'Pasivos corrientes totales']"
      ],
      "metadata": {
        "id": "Re2kGskfnqsj"
      },
      "execution_count": null,
      "outputs": []
    },
    {
      "cell_type": "code",
      "source": [
        "df = df[X + ['y']] # una subase con las variables que me interesan X y el target\n",
        "df.dropna(inplace=True)\n",
        "df.isnull().sum()"
      ],
      "metadata": {
        "colab": {
          "base_uri": "https://localhost:8080/"
        },
        "id": "_G2ZVPKAoK1f",
        "outputId": "89418b24-3e7d-4126-e0fa-50ea0eeb93e3"
      },
      "execution_count": null,
      "outputs": [
        {
          "output_type": "stream",
          "name": "stderr",
          "text": [
            "<ipython-input-7-73eee124e676>:2: SettingWithCopyWarning: \n",
            "A value is trying to be set on a copy of a slice from a DataFrame\n",
            "\n",
            "See the caveats in the documentation: https://pandas.pydata.org/pandas-docs/stable/user_guide/indexing.html#returning-a-view-versus-a-copy\n",
            "  df.dropna(inplace=True)\n"
          ]
        },
        {
          "output_type": "execute_result",
          "data": {
            "text/plain": [
              "Total pasivos                 0\n",
              "Ganancia (pérdida)            0\n",
              "Activos corrientes totales    0\n",
              "Pasivos corrientes totales    0\n",
              "y                             0\n",
              "dtype: int64"
            ]
          },
          "metadata": {},
          "execution_count": 7
        }
      ]
    },
    {
      "cell_type": "code",
      "source": [
        "from sklearn.model_selection import train_test_split\n",
        "X = df[X]\n",
        "y = df['y']"
      ],
      "metadata": {
        "id": "0rMUMhnpopqa"
      },
      "execution_count": null,
      "outputs": []
    },
    {
      "cell_type": "code",
      "source": [
        "X_train, X_test, y_train, y_test = train_test_split(X,y, test_size=0.3, random_state=123)"
      ],
      "metadata": {
        "id": "o9AiEbHeourU"
      },
      "execution_count": null,
      "outputs": []
    },
    {
      "cell_type": "code",
      "source": [
        "# APRENDER SOBRE\n",
        "# X_train, y_train\n",
        "# para usar ese aprendizaje sobre X_test\n",
        "# predicciones utilizo y_test para evaluar el desempeño del modelo"
      ],
      "metadata": {
        "id": "fXhPLY7ippUc"
      },
      "execution_count": null,
      "outputs": []
    },
    {
      "cell_type": "code",
      "source": [
        "from sklearn.tree import DecisionTreeClassifier"
      ],
      "metadata": {
        "id": "nWPM0H-uqhWw"
      },
      "execution_count": null,
      "outputs": []
    },
    {
      "cell_type": "code",
      "source": [
        "df.isnull().sum()"
      ],
      "metadata": {
        "colab": {
          "base_uri": "https://localhost:8080/"
        },
        "id": "qvlkzbX2q3-0",
        "outputId": "afbc3803-7647-4c8d-b1c8-003bf5387d51"
      },
      "execution_count": null,
      "outputs": [
        {
          "output_type": "execute_result",
          "data": {
            "text/plain": [
              "Total pasivos                 0\n",
              "Ganancia (pérdida)            0\n",
              "Activos corrientes totales    0\n",
              "Pasivos corrientes totales    0\n",
              "y                             0\n",
              "dtype: int64"
            ]
          },
          "metadata": {},
          "execution_count": 12
        }
      ]
    },
    {
      "cell_type": "code",
      "source": [
        "clf = DecisionTreeClassifier()\n",
        "clf.fit(X_train, y_train)"
      ],
      "metadata": {
        "colab": {
          "base_uri": "https://localhost:8080/",
          "height": 74
        },
        "id": "Y1UPQNjYqnHA",
        "outputId": "bbbba617-b256-4849-bdcb-4bd5105a004b"
      },
      "execution_count": null,
      "outputs": [
        {
          "output_type": "execute_result",
          "data": {
            "text/plain": [
              "DecisionTreeClassifier()"
            ],
            "text/html": [
              "<style>#sk-container-id-1 {color: black;background-color: white;}#sk-container-id-1 pre{padding: 0;}#sk-container-id-1 div.sk-toggleable {background-color: white;}#sk-container-id-1 label.sk-toggleable__label {cursor: pointer;display: block;width: 100%;margin-bottom: 0;padding: 0.3em;box-sizing: border-box;text-align: center;}#sk-container-id-1 label.sk-toggleable__label-arrow:before {content: \"▸\";float: left;margin-right: 0.25em;color: #696969;}#sk-container-id-1 label.sk-toggleable__label-arrow:hover:before {color: black;}#sk-container-id-1 div.sk-estimator:hover label.sk-toggleable__label-arrow:before {color: black;}#sk-container-id-1 div.sk-toggleable__content {max-height: 0;max-width: 0;overflow: hidden;text-align: left;background-color: #f0f8ff;}#sk-container-id-1 div.sk-toggleable__content pre {margin: 0.2em;color: black;border-radius: 0.25em;background-color: #f0f8ff;}#sk-container-id-1 input.sk-toggleable__control:checked~div.sk-toggleable__content {max-height: 200px;max-width: 100%;overflow: auto;}#sk-container-id-1 input.sk-toggleable__control:checked~label.sk-toggleable__label-arrow:before {content: \"▾\";}#sk-container-id-1 div.sk-estimator input.sk-toggleable__control:checked~label.sk-toggleable__label {background-color: #d4ebff;}#sk-container-id-1 div.sk-label input.sk-toggleable__control:checked~label.sk-toggleable__label {background-color: #d4ebff;}#sk-container-id-1 input.sk-hidden--visually {border: 0;clip: rect(1px 1px 1px 1px);clip: rect(1px, 1px, 1px, 1px);height: 1px;margin: -1px;overflow: hidden;padding: 0;position: absolute;width: 1px;}#sk-container-id-1 div.sk-estimator {font-family: monospace;background-color: #f0f8ff;border: 1px dotted black;border-radius: 0.25em;box-sizing: border-box;margin-bottom: 0.5em;}#sk-container-id-1 div.sk-estimator:hover {background-color: #d4ebff;}#sk-container-id-1 div.sk-parallel-item::after {content: \"\";width: 100%;border-bottom: 1px solid gray;flex-grow: 1;}#sk-container-id-1 div.sk-label:hover label.sk-toggleable__label {background-color: #d4ebff;}#sk-container-id-1 div.sk-serial::before {content: \"\";position: absolute;border-left: 1px solid gray;box-sizing: border-box;top: 0;bottom: 0;left: 50%;z-index: 0;}#sk-container-id-1 div.sk-serial {display: flex;flex-direction: column;align-items: center;background-color: white;padding-right: 0.2em;padding-left: 0.2em;position: relative;}#sk-container-id-1 div.sk-item {position: relative;z-index: 1;}#sk-container-id-1 div.sk-parallel {display: flex;align-items: stretch;justify-content: center;background-color: white;position: relative;}#sk-container-id-1 div.sk-item::before, #sk-container-id-1 div.sk-parallel-item::before {content: \"\";position: absolute;border-left: 1px solid gray;box-sizing: border-box;top: 0;bottom: 0;left: 50%;z-index: -1;}#sk-container-id-1 div.sk-parallel-item {display: flex;flex-direction: column;z-index: 1;position: relative;background-color: white;}#sk-container-id-1 div.sk-parallel-item:first-child::after {align-self: flex-end;width: 50%;}#sk-container-id-1 div.sk-parallel-item:last-child::after {align-self: flex-start;width: 50%;}#sk-container-id-1 div.sk-parallel-item:only-child::after {width: 0;}#sk-container-id-1 div.sk-dashed-wrapped {border: 1px dashed gray;margin: 0 0.4em 0.5em 0.4em;box-sizing: border-box;padding-bottom: 0.4em;background-color: white;}#sk-container-id-1 div.sk-label label {font-family: monospace;font-weight: bold;display: inline-block;line-height: 1.2em;}#sk-container-id-1 div.sk-label-container {text-align: center;}#sk-container-id-1 div.sk-container {/* jupyter's `normalize.less` sets `[hidden] { display: none; }` but bootstrap.min.css set `[hidden] { display: none !important; }` so we also need the `!important` here to be able to override the default hidden behavior on the sphinx rendered scikit-learn.org. See: https://github.com/scikit-learn/scikit-learn/issues/21755 */display: inline-block !important;position: relative;}#sk-container-id-1 div.sk-text-repr-fallback {display: none;}</style><div id=\"sk-container-id-1\" class=\"sk-top-container\"><div class=\"sk-text-repr-fallback\"><pre>DecisionTreeClassifier()</pre><b>In a Jupyter environment, please rerun this cell to show the HTML representation or trust the notebook. <br />On GitHub, the HTML representation is unable to render, please try loading this page with nbviewer.org.</b></div><div class=\"sk-container\" hidden><div class=\"sk-item\"><div class=\"sk-estimator sk-toggleable\"><input class=\"sk-toggleable__control sk-hidden--visually\" id=\"sk-estimator-id-1\" type=\"checkbox\" checked><label for=\"sk-estimator-id-1\" class=\"sk-toggleable__label sk-toggleable__label-arrow\">DecisionTreeClassifier</label><div class=\"sk-toggleable__content\"><pre>DecisionTreeClassifier()</pre></div></div></div></div></div>"
            ]
          },
          "metadata": {},
          "execution_count": 13
        }
      ]
    },
    {
      "cell_type": "code",
      "source": [
        "preds  = clf.predict(X_test)"
      ],
      "metadata": {
        "id": "3OZNjN0Arn0a"
      },
      "execution_count": null,
      "outputs": []
    },
    {
      "cell_type": "code",
      "source": [
        "from sklearn.metrics import classification_report"
      ],
      "metadata": {
        "id": "fFT9XNRmr18_"
      },
      "execution_count": null,
      "outputs": []
    },
    {
      "cell_type": "code",
      "source": [
        "y_train.value_counts()"
      ],
      "metadata": {
        "colab": {
          "base_uri": "https://localhost:8080/"
        },
        "id": "UzBxwAZHdRqd",
        "outputId": "010d0a7c-80c6-4fd9-9694-7fc1a40b5964"
      },
      "execution_count": null,
      "outputs": [
        {
          "output_type": "execute_result",
          "data": {
            "text/plain": [
              "y\n",
              "0    8800\n",
              "1     113\n",
              "Name: count, dtype: int64"
            ]
          },
          "metadata": {},
          "execution_count": 16
        }
      ]
    },
    {
      "cell_type": "code",
      "source": [
        "print(classification_report(y_test, preds))"
      ],
      "metadata": {
        "colab": {
          "base_uri": "https://localhost:8080/"
        },
        "id": "BYJolMIZr-rC",
        "outputId": "38acdb1c-9c50-4a9e-b8d7-33bf15584505"
      },
      "execution_count": null,
      "outputs": [
        {
          "output_type": "stream",
          "name": "stdout",
          "text": [
            "              precision    recall  f1-score   support\n",
            "\n",
            "           0       0.98      0.98      0.98      3760\n",
            "           1       0.00      0.00      0.00        61\n",
            "\n",
            "    accuracy                           0.97      3821\n",
            "   macro avg       0.49      0.49      0.49      3821\n",
            "weighted avg       0.97      0.97      0.97      3821\n",
            "\n"
          ]
        }
      ]
    },
    {
      "cell_type": "code",
      "source": [
        "X_test['predicha'] = preds"
      ],
      "metadata": {
        "id": "E6zfoazjwWsS"
      },
      "execution_count": null,
      "outputs": []
    },
    {
      "cell_type": "code",
      "source": [
        "X_test[X_test['predicha'] == 1].to_excel(\"quebradas.xlsx\")"
      ],
      "metadata": {
        "id": "pQnLAXLuwdki"
      },
      "execution_count": null,
      "outputs": []
    },
    {
      "cell_type": "code",
      "source": [
        "! pip install imbalanced-learn > null"
      ],
      "metadata": {
        "id": "NLHJlDaRfwnt"
      },
      "execution_count": null,
      "outputs": []
    },
    {
      "cell_type": "code",
      "source": [
        "# Undersampling\n",
        "from imblearn.under_sampling import RandomUnderSampler\n",
        "rus = RandomUnderSampler(random_state=23)\n",
        "X_res, y_res = rus.fit_resample(X, y) # a better practice is pass X_train, y_train\n",
        "X_train, X_test, y_train, y_test = train_test_split(X_res, y_res, test_size=0.2, shuffle = True, random_state = 666, stratify=y_res)"
      ],
      "metadata": {
        "id": "_qAD8HYqfyr7"
      },
      "execution_count": null,
      "outputs": []
    },
    {
      "cell_type": "code",
      "source": [
        "clf  = DecisionTreeClassifier()\n",
        "clf.fit(X_train, y_train)\n",
        "preds = clf.predict(X_test)\n",
        "print(classification_report(y_test , preds))"
      ],
      "metadata": {
        "colab": {
          "base_uri": "https://localhost:8080/"
        },
        "id": "58Eti1w6ilYQ",
        "outputId": "f0e53386-29e5-47e0-e7f1-8f12883f6f97"
      },
      "execution_count": null,
      "outputs": [
        {
          "output_type": "stream",
          "name": "stdout",
          "text": [
            "              precision    recall  f1-score   support\n",
            "\n",
            "           0       0.59      0.63      0.61        35\n",
            "           1       0.61      0.57      0.59        35\n",
            "\n",
            "    accuracy                           0.60        70\n",
            "   macro avg       0.60      0.60      0.60        70\n",
            "weighted avg       0.60      0.60      0.60        70\n",
            "\n"
          ]
        }
      ]
    }
  ]
}