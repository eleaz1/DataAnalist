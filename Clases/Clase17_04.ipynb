{
  "nbformat": 4,
  "nbformat_minor": 0,
  "metadata": {
    "colab": {
      "provenance": [],
      "include_colab_link": true
    },
    "kernelspec": {
      "name": "python3",
      "display_name": "Python 3"
    },
    "language_info": {
      "name": "python"
    }
  },
  "cells": [
    {
      "cell_type": "markdown",
      "metadata": {
        "id": "view-in-github",
        "colab_type": "text"
      },
      "source": [
        "<a href=\"https://colab.research.google.com/github/eleaz1/DataAnalist/blob/main/Clases/Clase17_04.ipynb\" target=\"_parent\"><img src=\"https://colab.research.google.com/assets/colab-badge.svg\" alt=\"Open In Colab\"/></a>"
      ]
    },
    {
      "cell_type": "code",
      "execution_count": null,
      "metadata": {
        "id": "e8SSvzUtyELP"
      },
      "outputs": [],
      "source": [
        "import pandas as pd\n",
        "from scipy import stats"
      ]
    },
    {
      "cell_type": "code",
      "source": [
        "!pip install tableone"
      ],
      "metadata": {
        "colab": {
          "base_uri": "https://localhost:8080/"
        },
        "id": "KjcC2Jy84HCq",
        "outputId": "ea2c0a08-b5e4-4077-c5ba-8d2b6a9193fc"
      },
      "execution_count": null,
      "outputs": [
        {
          "output_type": "stream",
          "name": "stdout",
          "text": [
            "Requirement already satisfied: tableone in /usr/local/lib/python3.10/dist-packages (0.8.0)\n",
            "Requirement already satisfied: jinja2 in /usr/local/lib/python3.10/dist-packages (from tableone) (3.1.3)\n",
            "Requirement already satisfied: numpy in /usr/local/lib/python3.10/dist-packages (from tableone) (1.25.2)\n",
            "Requirement already satisfied: openpyxl in /usr/local/lib/python3.10/dist-packages (from tableone) (3.1.2)\n",
            "Requirement already satisfied: pandas in /usr/local/lib/python3.10/dist-packages (from tableone) (2.0.3)\n",
            "Requirement already satisfied: scipy in /usr/local/lib/python3.10/dist-packages (from tableone) (1.11.4)\n",
            "Requirement already satisfied: statsmodels in /usr/local/lib/python3.10/dist-packages (from tableone) (0.14.1)\n",
            "Requirement already satisfied: tabulate in /usr/local/lib/python3.10/dist-packages (from tableone) (0.9.0)\n",
            "Requirement already satisfied: MarkupSafe>=2.0 in /usr/local/lib/python3.10/dist-packages (from jinja2->tableone) (2.1.5)\n",
            "Requirement already satisfied: et-xmlfile in /usr/local/lib/python3.10/dist-packages (from openpyxl->tableone) (1.1.0)\n",
            "Requirement already satisfied: python-dateutil>=2.8.2 in /usr/local/lib/python3.10/dist-packages (from pandas->tableone) (2.8.2)\n",
            "Requirement already satisfied: pytz>=2020.1 in /usr/local/lib/python3.10/dist-packages (from pandas->tableone) (2023.4)\n",
            "Requirement already satisfied: tzdata>=2022.1 in /usr/local/lib/python3.10/dist-packages (from pandas->tableone) (2024.1)\n",
            "Requirement already satisfied: patsy>=0.5.4 in /usr/local/lib/python3.10/dist-packages (from statsmodels->tableone) (0.5.6)\n",
            "Requirement already satisfied: packaging>=21.3 in /usr/local/lib/python3.10/dist-packages (from statsmodels->tableone) (24.0)\n",
            "Requirement already satisfied: six in /usr/local/lib/python3.10/dist-packages (from patsy>=0.5.4->statsmodels->tableone) (1.16.0)\n"
          ]
        }
      ]
    },
    {
      "cell_type": "code",
      "source": [
        "from tableone import TableOne\n",
        "df = pd.read_csv(\"https://raw.githubusercontent.com/it-ces/Datasets/main/icfes.csv\")"
      ],
      "metadata": {
        "id": "5R2hE7cDyH2Y"
      },
      "execution_count": null,
      "outputs": []
    },
    {
      "cell_type": "code",
      "source": [
        "target = 'PUNT_GLOBAL'\n",
        "group =  'COLE_NATURALEZA'"
      ],
      "metadata": {
        "colab": {
          "base_uri": "https://localhost:8080/"
        },
        "id": "ytZyxKIryj7c",
        "outputId": "7a085832-77a9-48d7-f391-2681f8e77822"
      },
      "execution_count": null,
      "outputs": [
        {
          "output_type": "stream",
          "name": "stderr",
          "text": [
            "/usr/local/lib/python3.10/dist-packages/ipykernel/ipkernel.py:283: DeprecationWarning: `should_run_async` will not call `transform_cell` automatically in the future. Please pass the result to `transformed_cell` argument and any exception that happen during thetransform in `preprocessing_exc_tuple` in IPython 7.17 and above.\n",
            "  and should_run_async(code)\n"
          ]
        }
      ]
    },
    {
      "cell_type": "code",
      "source": [
        "df.columns"
      ],
      "metadata": {
        "colab": {
          "base_uri": "https://localhost:8080/"
        },
        "id": "gk_KgKI77I73",
        "outputId": "5005ab6b-9ef2-45de-88b8-41a9ce47c3d0"
      },
      "execution_count": null,
      "outputs": [
        {
          "output_type": "stream",
          "name": "stderr",
          "text": [
            "/usr/local/lib/python3.10/dist-packages/ipykernel/ipkernel.py:283: DeprecationWarning: `should_run_async` will not call `transform_cell` automatically in the future. Please pass the result to `transformed_cell` argument and any exception that happen during thetransform in `preprocessing_exc_tuple` in IPython 7.17 and above.\n",
            "  and should_run_async(code)\n"
          ]
        },
        {
          "output_type": "execute_result",
          "data": {
            "text/plain": [
              "Index(['Unnamed: 0', 'ESTU_TIPODOCUMENTO', 'ESTU_NACIONALIDAD', 'ESTU_GENERO',\n",
              "       'ESTU_FECHANACIMIENTO', 'PERIODO', 'ESTU_CONSECUTIVO',\n",
              "       'ESTU_ESTUDIANTE', 'ESTU_PAIS_RESIDE', 'ESTU_TIENEETNIA',\n",
              "       'ESTU_DEPTO_RESIDE', 'ESTU_COD_RESIDE_DEPTO', 'ESTU_MCPIO_RESIDE',\n",
              "       'ESTU_COD_RESIDE_MCPIO', 'FAMI_EDUCACIONPADRE', 'FAMI_EDUCACIONMADRE',\n",
              "       'FAMI_ESTRATOVIVIENDA', 'FAMI_PERSONASHOGAR', 'FAMI_CUARTOSHOGAR',\n",
              "       'FAMI_TIENEINTERNET', 'FAMI_TIENECOMPUTADOR', 'FAMI_TIENELAVADORA',\n",
              "       'FAMI_TIENEHORNOMICROOGAS', 'FAMI_TIENESERVICIOTV',\n",
              "       'FAMI_TIENEAUTOMOVIL', 'FAMI_TIENEMOTOCICLETA',\n",
              "       'FAMI_TIENECONSOLAVIDEOJUEGOS', 'FAMI_NUMLIBROS',\n",
              "       'ESTU_DEDICACIONLECTURADIARIA', 'ESTU_DEDICACIONINTERNET',\n",
              "       'ESTU_HORASSEMANATRABAJA', 'ESTU_TIPOREMUNERACION',\n",
              "       'FAMI_COMELECHEDERIVADOS', 'FAMI_COMECARNEPESCADOHUEVO',\n",
              "       'FAMI_COMECEREALFRUTOSLEGUMBRE', 'FAMI_TRABAJOLABORPADRE',\n",
              "       'FAMI_TRABAJOLABORMADRE', 'FAMI_SITUACIONECONOMICA',\n",
              "       'COLE_COD_DANE_ESTABLECIMIENTO', 'COLE_CODIGO_ICFES',\n",
              "       'COLE_NOMBRE_ESTABLECIMIENTO', 'COLE_JORNADA', 'COLE_GENERO',\n",
              "       'COLE_NATURALEZA', 'COLE_CALENDARIO', 'COLE_BILINGUE', 'COLE_CARACTER',\n",
              "       'COLE_COD_DANE_SEDE', 'COLE_NOMBRE_SEDE', 'COLE_SEDE_PRINCIPAL',\n",
              "       'COLE_AREA_UBICACION', 'COLE_COD_MCPIO_UBICACION',\n",
              "       'COLE_MCPIO_UBICACION', 'COLE_COD_DEPTO_UBICACION',\n",
              "       'COLE_DEPTO_UBICACION', 'ESTU_PRIVADO_LIBERTAD',\n",
              "       'ESTU_COD_MCPIO_PRESENTACION', 'ESTU_MCPIO_PRESENTACION',\n",
              "       'ESTU_DEPTO_PRESENTACION', 'ESTU_COD_DEPTO_PRESENTACION',\n",
              "       'PUNT_MATEMATICAS', 'DESEMP_MATEMATICAS', 'PERCENTIL_MATEMATICAS',\n",
              "       'PUNT_INGLES', 'PERCENTIL_INGLES', 'DESEMP_INGLES', 'PUNT_C_NATURALES',\n",
              "       'DESEMP_C_NATURALES', 'PERCENTIL_C_NATURALES', 'PUNT_LECTURA_CRITICA',\n",
              "       'DESEMP_LECTURA_CRITICA', 'PERCENTIL_LECTURA_CRITICA',\n",
              "       'PUNT_SOCIALES_CIUDADANAS', 'DESEMP_SOCIALES_CIUDADANAS',\n",
              "       'PERCENTIL_SOCIALES_CIUDADANAS', 'PUNT_GLOBAL', 'PERCENTIL_GLOBAL',\n",
              "       'PERCENTIL_ESPECIAL_GLOBAL', 'ESTU_INSE_INDIVIDUAL',\n",
              "       'ESTU_NSE_INDIVIDUAL', 'ESTU_NSE_ESTABLECIMIENTO',\n",
              "       'ESTU_ESTADOINVESTIGACION'],\n",
              "      dtype='object')"
            ]
          },
          "metadata": {},
          "execution_count": 5
        }
      ]
    },
    {
      "cell_type": "code",
      "source": [
        "df = df[['PUNT_SOCIALES_CIUDADANAS', 'PUNT_GLOBAL',  'PUNT_MATEMATICAS' ,   'PUNT_INGLES' , 'COLE_NATURALEZA' ]]"
      ],
      "metadata": {
        "colab": {
          "base_uri": "https://localhost:8080/"
        },
        "id": "0fBVF4oR7GIg",
        "outputId": "4a8f4687-a720-4879-9b22-689cf101235d"
      },
      "execution_count": null,
      "outputs": [
        {
          "output_type": "stream",
          "name": "stderr",
          "text": [
            "/usr/local/lib/python3.10/dist-packages/ipykernel/ipkernel.py:283: DeprecationWarning: `should_run_async` will not call `transform_cell` automatically in the future. Please pass the result to `transformed_cell` argument and any exception that happen during thetransform in `preprocessing_exc_tuple` in IPython 7.17 and above.\n",
            "  and should_run_async(code)\n"
          ]
        }
      ]
    },
    {
      "cell_type": "code",
      "source": [
        "def classify_vars(df):\n",
        "    categorial, nonormal, normal = [],[],[]\n",
        "    for t in df.columns:\n",
        "        if df[t].dtypes==\"object\" or df[t].dtypes.name=='category':\n",
        "            categorial.append(t)\n",
        "        if df[t].dtypes==\"int64\" or df[t].dtypes==\"float64\":\n",
        "            n,p = stats.shapiro(df[t])\n",
        "            if p<0.05:\n",
        "                nonormal.append(t)\n",
        "            else:\n",
        "                normal.append(t)\n",
        "    return categorial, nonormal, normal"
      ],
      "metadata": {
        "colab": {
          "base_uri": "https://localhost:8080/"
        },
        "id": "1ZnZ3grL6z1q",
        "outputId": "4f12a103-c7d1-455e-b8a3-d2973269a0f6"
      },
      "execution_count": null,
      "outputs": [
        {
          "output_type": "stream",
          "name": "stderr",
          "text": [
            "/usr/local/lib/python3.10/dist-packages/ipykernel/ipkernel.py:283: DeprecationWarning: `should_run_async` will not call `transform_cell` automatically in the future. Please pass the result to `transformed_cell` argument and any exception that happen during thetransform in `preprocessing_exc_tuple` in IPython 7.17 and above.\n",
            "  and should_run_async(code)\n"
          ]
        }
      ]
    },
    {
      "cell_type": "code",
      "source": [
        "categorial, nonormal, normal = classify_vars(df)"
      ],
      "metadata": {
        "colab": {
          "base_uri": "https://localhost:8080/"
        },
        "id": "RTM_N5aj62hC",
        "outputId": "ef5b9f10-2306-4193-e2f2-2817cb96ec49"
      },
      "execution_count": null,
      "outputs": [
        {
          "output_type": "stream",
          "name": "stderr",
          "text": [
            "/usr/local/lib/python3.10/dist-packages/ipykernel/ipkernel.py:283: DeprecationWarning: `should_run_async` will not call `transform_cell` automatically in the future. Please pass the result to `transformed_cell` argument and any exception that happen during thetransform in `preprocessing_exc_tuple` in IPython 7.17 and above.\n",
            "  and should_run_async(code)\n"
          ]
        }
      ]
    },
    {
      "cell_type": "code",
      "source": [
        "mytable = TableOne(df,categorical=categorial, nonnormal=nonormal, groupby='COLE_NATURALEZA', pval=True, pval_test_name=True )"
      ],
      "metadata": {
        "colab": {
          "base_uri": "https://localhost:8080/"
        },
        "id": "H-DRU_Ak65sZ",
        "outputId": "062d0080-55b4-4172-d182-44f146d59a51"
      },
      "execution_count": null,
      "outputs": [
        {
          "output_type": "stream",
          "name": "stderr",
          "text": [
            "/usr/local/lib/python3.10/dist-packages/ipykernel/ipkernel.py:283: DeprecationWarning: `should_run_async` will not call `transform_cell` automatically in the future. Please pass the result to `transformed_cell` argument and any exception that happen during thetransform in `preprocessing_exc_tuple` in IPython 7.17 and above.\n",
            "  and should_run_async(code)\n",
            "/usr/local/lib/python3.10/dist-packages/tableone/tableone.py:242: DeprecationWarning: The pval_test_name argument is deprecated; use htest_name instead.\n",
            "  warnings.warn(\"The pval_test_name argument is deprecated; use \"\n"
          ]
        }
      ]
    },
    {
      "cell_type": "code",
      "source": [
        "mytable"
      ],
      "metadata": {
        "colab": {
          "base_uri": "https://localhost:8080/",
          "height": 372
        },
        "id": "fmHc948j7XOt",
        "outputId": "4ec8571a-1a8d-41bb-ff11-070c042f9d9c"
      },
      "execution_count": null,
      "outputs": [
        {
          "output_type": "stream",
          "name": "stderr",
          "text": [
            "/usr/local/lib/python3.10/dist-packages/ipykernel/ipkernel.py:283: DeprecationWarning: `should_run_async` will not call `transform_cell` automatically in the future. Please pass the result to `transformed_cell` argument and any exception that happen during thetransform in `preprocessing_exc_tuple` in IPython 7.17 and above.\n",
            "  and should_run_async(code)\n"
          ]
        },
        {
          "output_type": "execute_result",
          "data": {
            "text/plain": [
              "                                                    Grouped by COLE_NATURALEZA                                                                                          \n",
              "                                                                       Missing              Overall           NO OFICIAL              OFICIAL P-Value               Test\n",
              "n                                                                                              2600                  580                 2020                           \n",
              "PUNT_SOCIALES_CIUDADANAS, median [Q1,Q3]                                     0     47.0 [38.0,56.2]     52.5 [42.0,61.2]     46.0 [37.0,55.0]  <0.001     Kruskal-Wallis\n",
              "PUNT_GLOBAL, median [Q1,Q3]                                                  0  246.0 [208.0,286.0]  274.0 [226.8,313.0]  241.0 [205.0,279.0]  <0.001     Kruskal-Wallis\n",
              "PUNT_MATEMATICAS, median [Q1,Q3]                                             0     51.0 [42.0,59.0]     55.0 [45.0,64.0]     50.0 [41.0,58.0]  <0.001     Kruskal-Wallis\n",
              "PUNT_INGLES, mean (SD)                                                      12          49.7 (12.9)          56.3 (14.8)          47.8 (11.6)  <0.001  Two Sample T-test\n",
              "COLE_NATURALEZA, n (%)                   NO OFICIAL                          0           580 (22.3)          580 (100.0)                       <0.001        Chi-squared\n",
              "                                         OFICIAL                                        2020 (77.7)                              2020 (100.0)                           "
            ],
            "text/html": [
              "<div>\n",
              "<style scoped>\n",
              "    .dataframe tbody tr th:only-of-type {\n",
              "        vertical-align: middle;\n",
              "    }\n",
              "\n",
              "    .dataframe tbody tr th {\n",
              "        vertical-align: top;\n",
              "    }\n",
              "\n",
              "    .dataframe thead tr th {\n",
              "        text-align: left;\n",
              "    }\n",
              "</style>\n",
              "<table border=\"1\" class=\"dataframe\">\n",
              "  <thead>\n",
              "    <tr>\n",
              "      <th></th>\n",
              "      <th></th>\n",
              "      <th colspan=\"6\" halign=\"left\">Grouped by COLE_NATURALEZA</th>\n",
              "    </tr>\n",
              "    <tr>\n",
              "      <th></th>\n",
              "      <th></th>\n",
              "      <th>Missing</th>\n",
              "      <th>Overall</th>\n",
              "      <th>NO OFICIAL</th>\n",
              "      <th>OFICIAL</th>\n",
              "      <th>P-Value</th>\n",
              "      <th>Test</th>\n",
              "    </tr>\n",
              "  </thead>\n",
              "  <tbody>\n",
              "    <tr>\n",
              "      <th>n</th>\n",
              "      <th></th>\n",
              "      <td></td>\n",
              "      <td>2600</td>\n",
              "      <td>580</td>\n",
              "      <td>2020</td>\n",
              "      <td></td>\n",
              "      <td></td>\n",
              "    </tr>\n",
              "    <tr>\n",
              "      <th>PUNT_SOCIALES_CIUDADANAS, median [Q1,Q3]</th>\n",
              "      <th></th>\n",
              "      <td>0</td>\n",
              "      <td>47.0 [38.0,56.2]</td>\n",
              "      <td>52.5 [42.0,61.2]</td>\n",
              "      <td>46.0 [37.0,55.0]</td>\n",
              "      <td>&lt;0.001</td>\n",
              "      <td>Kruskal-Wallis</td>\n",
              "    </tr>\n",
              "    <tr>\n",
              "      <th>PUNT_GLOBAL, median [Q1,Q3]</th>\n",
              "      <th></th>\n",
              "      <td>0</td>\n",
              "      <td>246.0 [208.0,286.0]</td>\n",
              "      <td>274.0 [226.8,313.0]</td>\n",
              "      <td>241.0 [205.0,279.0]</td>\n",
              "      <td>&lt;0.001</td>\n",
              "      <td>Kruskal-Wallis</td>\n",
              "    </tr>\n",
              "    <tr>\n",
              "      <th>PUNT_MATEMATICAS, median [Q1,Q3]</th>\n",
              "      <th></th>\n",
              "      <td>0</td>\n",
              "      <td>51.0 [42.0,59.0]</td>\n",
              "      <td>55.0 [45.0,64.0]</td>\n",
              "      <td>50.0 [41.0,58.0]</td>\n",
              "      <td>&lt;0.001</td>\n",
              "      <td>Kruskal-Wallis</td>\n",
              "    </tr>\n",
              "    <tr>\n",
              "      <th>PUNT_INGLES, mean (SD)</th>\n",
              "      <th></th>\n",
              "      <td>12</td>\n",
              "      <td>49.7 (12.9)</td>\n",
              "      <td>56.3 (14.8)</td>\n",
              "      <td>47.8 (11.6)</td>\n",
              "      <td>&lt;0.001</td>\n",
              "      <td>Two Sample T-test</td>\n",
              "    </tr>\n",
              "    <tr>\n",
              "      <th rowspan=\"2\" valign=\"top\">COLE_NATURALEZA, n (%)</th>\n",
              "      <th>NO OFICIAL</th>\n",
              "      <td>0</td>\n",
              "      <td>580 (22.3)</td>\n",
              "      <td>580 (100.0)</td>\n",
              "      <td></td>\n",
              "      <td>&lt;0.001</td>\n",
              "      <td>Chi-squared</td>\n",
              "    </tr>\n",
              "    <tr>\n",
              "      <th>OFICIAL</th>\n",
              "      <td></td>\n",
              "      <td>2020 (77.7)</td>\n",
              "      <td></td>\n",
              "      <td>2020 (100.0)</td>\n",
              "      <td></td>\n",
              "      <td></td>\n",
              "    </tr>\n",
              "  </tbody>\n",
              "</table>\n",
              "</div><br />"
            ]
          },
          "metadata": {},
          "execution_count": 10
        }
      ]
    }
  ]
}