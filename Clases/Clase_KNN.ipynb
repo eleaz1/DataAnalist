{
  "nbformat": 4,
  "nbformat_minor": 0,
  "metadata": {
    "colab": {
      "provenance": [],
      "include_colab_link": true
    },
    "kernelspec": {
      "name": "python3",
      "display_name": "Python 3"
    },
    "language_info": {
      "name": "python"
    }
  },
  "cells": [
    {
      "cell_type": "markdown",
      "metadata": {
        "id": "view-in-github",
        "colab_type": "text"
      },
      "source": [
        "<a href=\"https://colab.research.google.com/github/eleaz1/DataAnalist/blob/main/Clases/Clase_KNN.ipynb\" target=\"_parent\"><img src=\"https://colab.research.google.com/assets/colab-badge.svg\" alt=\"Open In Colab\"/></a>"
      ]
    },
    {
      "cell_type": "code",
      "execution_count": null,
      "metadata": {
        "id": "Jx55gTnm1Cjs"
      },
      "outputs": [],
      "source": [
        "import pandas as pd\n",
        "from sklearn.neighbors import KNeighborsClassifier\n",
        "from sklearn.model_selection import train_test_split\n",
        "from sklearn.metrics import classification_report\n",
        "from sklearn.tree import DecisionTreeClassifier\n",
        "URL = \"https://raw.githubusercontent.com/it-ces/Datasets/main/basesuper.csv\""
      ]
    },
    {
      "cell_type": "code",
      "source": [
        "df  = pd.read_csv(URL)\n",
        "# La variable a predicir es y"
      ],
      "metadata": {
        "id": "qoqVi_lU1TZm"
      },
      "execution_count": null,
      "outputs": []
    },
    {
      "cell_type": "code",
      "source": [
        "df['y'].value_counts()"
      ],
      "metadata": {
        "colab": {
          "base_uri": "https://localhost:8080/"
        },
        "id": "MwMW6eq91bzW",
        "outputId": "966978ef-8ce5-4800-9800-16f335d523ea"
      },
      "execution_count": null,
      "outputs": [
        {
          "output_type": "execute_result",
          "data": {
            "text/plain": [
              "y\n",
              "0    12598\n",
              "1      175\n",
              "Name: count, dtype: int64"
            ]
          },
          "metadata": {},
          "execution_count": 62
        }
      ]
    },
    {
      "cell_type": "code",
      "source": [
        "df.columns"
      ],
      "metadata": {
        "colab": {
          "base_uri": "https://localhost:8080/"
        },
        "id": "ktNlfMLY2Flv",
        "outputId": "a6f46ab9-356c-403b-a067-d1e95ac85593"
      },
      "execution_count": null,
      "outputs": [
        {
          "output_type": "execute_result",
          "data": {
            "text/plain": [
              "Index(['Unnamed: 0', 'NIT', 'y', 'Ingresos de actividades ordinarias',\n",
              "       'Costo de ventas', 'Ganancia bruta', 'Otros ingresos',\n",
              "       'Gastos de ventas', 'Gastos de administración', 'Otros gastos',\n",
              "       'Otras ganancias (pérdidas)',\n",
              "       'Ganancia (pérdida) por actividades de operación',\n",
              "       'Ingresos financieros', 'Costos financieros',\n",
              "       'Ganancia (pérdida) antes de impuestos',\n",
              "       'Ingreso (gasto) por impuestos',\n",
              "       'Ganancia (pérdida) procedente de operaciones continuadas',\n",
              "       'Ganancia (pérdida) procedente de operaciones discontinuadas',\n",
              "       'Ganancia (pérdida)', 'punto de entrada', 'formulario',\n",
              "       'Razón social de la sociedad', 'Fecha de Corte',\n",
              "       'Clasificación Industrial Internacional Uniforme Versión 4 A.C',\n",
              "       'Tipo societario',\n",
              "       'Dirección de notificación judicial registrada en Cámara de Comercio',\n",
              "       'Departamento de la dirección del domicilio',\n",
              "       'Ciudad de la dirección del domicilio', 'Periodo',\n",
              "       'Efectivo y equivalentes al efectivo',\n",
              "       'Cuentas comerciales por cobrar y otras cuentas por cobrar corrientes',\n",
              "       'Inventarios corrientes', 'Activos por impuestos corrientes corriente',\n",
              "       'Activos biológicos corrientes al costo menos depreciación acumulada y deterioro de valor',\n",
              "       'Activos biológicos corrientes al valor razonable',\n",
              "       'Otros activos financieros corrientes',\n",
              "       'Otros activos no financieros corrientes',\n",
              "       'Activos corrientes distintos al efectivo pignorados como garantía colateral para las que el receptor de transferencias tiene derecho por contrato o costumbre a vender o pignorar de nuevo dicha garantía colateral',\n",
              "       'Total activos corrientes distintos de los activos no corrientes o grupo de activos para su disposición clasificados como mantenidos para la venta o como mantenidos para distribuir a los propietarios',\n",
              "       'Activos no corrientes o grupos de activos para su disposición clasificados como mantenidos para la venta o como mantenidos para distribuir a los propietarios',\n",
              "       'Activos corrientes totales', 'Propiedades planta y equipo',\n",
              "       'Propiedades de inversión al costo menos depreciación acumulada y deterioro',\n",
              "       'Propiedades de inversión a valor razonable con cambios en resultados',\n",
              "       'Plusvalía', 'Activos intangibles distintos de la plusvalía',\n",
              "       'Activos biológicos no corrientes al costo menos depreciación acumulada y deterioro del valor',\n",
              "       'Activos biológicos no corrientes al valor razonable',\n",
              "       'Cuentas comerciales por cobrar y otras cuentas por cobrar no corrientes',\n",
              "       'Inventarios no corrientes', 'Activos por impuestos diferidos',\n",
              "       'Activos por impuestos corrientes no corriente',\n",
              "       'Otros activos financieros no corrientes',\n",
              "       'Otros activos no financieros no corrientes',\n",
              "       'Activos no corrientes distintos al efectivo pignorados como garantía colateral para las que el receptor de transferencias tiene derecho por contrato o costumbre a vender o pignorar de nuevo dicha garantía colateral',\n",
              "       'Total de activos no corrientes', 'Total de activos',\n",
              "       'Provisiones corrientes por beneficios a los empleados',\n",
              "       'Otras provisiones corrientes', 'Total provisiones corrientes',\n",
              "       'Cuentas por pagar comerciales y otras cuentas por pagar',\n",
              "       'Pasivos por impuestos corrientes corriente',\n",
              "       'Otros pasivos financieros corrientes', 'Préstamos corrientes',\n",
              "       'Parte corriente de préstamos no corrientes',\n",
              "       'Otros pasivos no financieros corrientes',\n",
              "       'Total pasivos corrientes distintos de los pasivos incluidos en grupos de activos para su disposición clasificados como mantenidos para la venta',\n",
              "       'Pasivos incluidos en grupos de activos para su disposición clasificados como mantenidos para la venta',\n",
              "       'Pasivos corrientes totales',\n",
              "       'Provisiones no corrientes por beneficios a los empleados',\n",
              "       'Otras provisiones no corrientes', 'Total provisiones no corrientes',\n",
              "       'Cuentas comerciales por pagar y otras cuentas por pagar no corrientes',\n",
              "       'Pasivo por impuestos diferidos',\n",
              "       'Pasivos por impuestos corrientes no corriente',\n",
              "       'Otros pasivos financieros no corrientes',\n",
              "       'Parte no corriente de préstamos no corrientes',\n",
              "       'Otros pasivos no financieros no corrientes',\n",
              "       'Total de pasivos no corrientes', 'Total pasivos', 'Capital emitido',\n",
              "       'Prima de emisión', 'Acciones propias en cartera',\n",
              "       'Inversión suplementaria al capital asignado',\n",
              "       'Otras participaciones en el patrimonio', 'Superavit por revaluación',\n",
              "       'Otras reservas', 'Ganancias acumuladas', 'Patrimonio total',\n",
              "       'Total de patrimonio y pasivos', '_merge'],\n",
              "      dtype='object')"
            ]
          },
          "metadata": {},
          "execution_count": 63
        }
      ]
    },
    {
      "cell_type": "code",
      "source": [
        "X  = ['Pasivos corrientes totales',\n",
        "      'Total de activos',\n",
        "      'Patrimonio total'  ,\n",
        "      'Ganancia (pérdida)' ,\n",
        "      'Total pasivos']\n",
        "y = 'y'\n",
        "df  = df[X + [y]].copy()  # copia de df solo con lo que me interesa...\n",
        "df.dropna(inplace=True)\n",
        "######\n",
        "X, y = df[X], df[y]"
      ],
      "metadata": {
        "id": "ODswIfeC60xF"
      },
      "execution_count": null,
      "outputs": []
    },
    {
      "cell_type": "code",
      "source": [
        "df['y'].value_counts() # full data"
      ],
      "metadata": {
        "colab": {
          "base_uri": "https://localhost:8080/"
        },
        "id": "Kdtqygff_0aR",
        "outputId": "6faed740-622b-4589-bc28-1fb81be85f3d"
      },
      "execution_count": null,
      "outputs": [
        {
          "output_type": "execute_result",
          "data": {
            "text/plain": [
              "y\n",
              "0    12560\n",
              "1      174\n",
              "Name: count, dtype: int64"
            ]
          },
          "metadata": {},
          "execution_count": 65
        }
      ]
    },
    {
      "cell_type": "code",
      "source": [],
      "metadata": {
        "id": "nBjUEu9G9D8i"
      },
      "execution_count": null,
      "outputs": []
    },
    {
      "cell_type": "code",
      "source": [
        "X_train, X_test, y_train, y_test = train_test_split(X, y, test_size=0.2, random_state=42)"
      ],
      "metadata": {
        "id": "Ufk85H7R9rrv"
      },
      "execution_count": null,
      "outputs": []
    },
    {
      "cell_type": "code",
      "source": [
        "X_train.shape[0]"
      ],
      "metadata": {
        "colab": {
          "base_uri": "https://localhost:8080/"
        },
        "id": "3V59GHjs-aw9",
        "outputId": "77968122-b1fa-4290-ddd5-1cec864fe1f4"
      },
      "execution_count": null,
      "outputs": [
        {
          "output_type": "execute_result",
          "data": {
            "text/plain": [
              "10187"
            ]
          },
          "metadata": {},
          "execution_count": 85
        }
      ]
    },
    {
      "cell_type": "code",
      "source": [
        "y.value_counts()"
      ],
      "metadata": {
        "colab": {
          "base_uri": "https://localhost:8080/"
        },
        "id": "K5PWnWP9FSAj",
        "outputId": "1b47d13b-a43b-4a99-bfca-4eabe05bbcab"
      },
      "execution_count": null,
      "outputs": [
        {
          "output_type": "execute_result",
          "data": {
            "text/plain": [
              "y\n",
              "0    12560\n",
              "1      174\n",
              "Name: count, dtype: int64"
            ]
          },
          "metadata": {},
          "execution_count": 90
        }
      ]
    },
    {
      "cell_type": "code",
      "source": [
        "classifier = KNeighborsClassifier(n_neighbors=10000)\n",
        "classifier.fit(X_train, y_train)\n",
        "y_pred = classifier.predict(X_test)\n",
        "print(classification_report(y_test, y_pred))"
      ],
      "metadata": {
        "colab": {
          "base_uri": "https://localhost:8080/"
        },
        "id": "KKThmn_i-8is",
        "outputId": "024cb9d9-9334-43bc-e742-face5124b973"
      },
      "execution_count": null,
      "outputs": [
        {
          "output_type": "stream",
          "name": "stdout",
          "text": [
            "              precision    recall  f1-score   support\n",
            "\n",
            "           0       0.99      1.00      0.99      2514\n",
            "           1       0.00      0.00      0.00        33\n",
            "\n",
            "    accuracy                           0.99      2547\n",
            "   macro avg       0.49      0.50      0.50      2547\n",
            "weighted avg       0.97      0.99      0.98      2547\n",
            "\n"
          ]
        },
        {
          "output_type": "stream",
          "name": "stderr",
          "text": [
            "/usr/local/lib/python3.10/dist-packages/sklearn/metrics/_classification.py:1344: UndefinedMetricWarning: Precision and F-score are ill-defined and being set to 0.0 in labels with no predicted samples. Use `zero_division` parameter to control this behavior.\n",
            "  _warn_prf(average, modifier, msg_start, len(result))\n",
            "/usr/local/lib/python3.10/dist-packages/sklearn/metrics/_classification.py:1344: UndefinedMetricWarning: Precision and F-score are ill-defined and being set to 0.0 in labels with no predicted samples. Use `zero_division` parameter to control this behavior.\n",
            "  _warn_prf(average, modifier, msg_start, len(result))\n",
            "/usr/local/lib/python3.10/dist-packages/sklearn/metrics/_classification.py:1344: UndefinedMetricWarning: Precision and F-score are ill-defined and being set to 0.0 in labels with no predicted samples. Use `zero_division` parameter to control this behavior.\n",
            "  _warn_prf(average, modifier, msg_start, len(result))\n"
          ]
        }
      ]
    },
    {
      "cell_type": "code",
      "source": [
        "classifier_dt = DecisionTreeClassifier()\n",
        "classifier_dt.fit(X_train, y_train)\n",
        "preds = classifier_dt.predict(X_test)\n",
        "print(classification_report(y_test, preds))"
      ],
      "metadata": {
        "colab": {
          "base_uri": "https://localhost:8080/"
        },
        "id": "W80G05ACAJm-",
        "outputId": "435007ed-1a9c-4d6d-8f68-7e83ae21a0d5"
      },
      "execution_count": null,
      "outputs": [
        {
          "output_type": "stream",
          "name": "stdout",
          "text": [
            "              precision    recall  f1-score   support\n",
            "\n",
            "           0       0.99      0.99      0.99      2514\n",
            "           1       0.04      0.03      0.03        33\n",
            "\n",
            "    accuracy                           0.98      2547\n",
            "   macro avg       0.51      0.51      0.51      2547\n",
            "weighted avg       0.97      0.98      0.98      2547\n",
            "\n"
          ]
        }
      ]
    },
    {
      "cell_type": "code",
      "source": [
        "from sklearn.linear_model import LogisticRegression"
      ],
      "metadata": {
        "id": "FNuwEy1_GlF7"
      },
      "execution_count": null,
      "outputs": []
    },
    {
      "cell_type": "code",
      "source": [
        "classifier_lg = LogisticRegression()\n",
        "classifier_lg.fit(X_train, y_train)\n",
        "preds= classifier_lg.predict(X_test)\n",
        "print(classification_report(y_test, preds))"
      ],
      "metadata": {
        "colab": {
          "base_uri": "https://localhost:8080/"
        },
        "id": "F7E7B7NCGv9s",
        "outputId": "b3c7f1e3-deb9-4898-88ff-0958f5a5f9fa"
      },
      "execution_count": null,
      "outputs": [
        {
          "output_type": "stream",
          "name": "stdout",
          "text": [
            "              precision    recall  f1-score   support\n",
            "\n",
            "           0       0.99      1.00      0.99      2514\n",
            "           1       0.00      0.00      0.00        33\n",
            "\n",
            "    accuracy                           0.99      2547\n",
            "   macro avg       0.49      0.50      0.50      2547\n",
            "weighted avg       0.97      0.99      0.98      2547\n",
            "\n"
          ]
        }
      ]
    },
    {
      "cell_type": "code",
      "source": [
        "from sklearn.ensemble import RandomForestClassifier"
      ],
      "metadata": {
        "id": "wrQOWBqzAcAJ"
      },
      "execution_count": null,
      "outputs": []
    },
    {
      "cell_type": "code",
      "source": [
        "clasificador = RandomForestClassifier()\n",
        "clasificador.fit(X_train, y_train)\n",
        "preds = clasificador.predict(X_test)\n",
        "print(classification_report(y_test,preds ))"
      ],
      "metadata": {
        "colab": {
          "base_uri": "https://localhost:8080/"
        },
        "id": "qnkki-0mHPg-",
        "outputId": "2320bee5-028d-4562-e1ae-f10e07b5ba5c"
      },
      "execution_count": null,
      "outputs": [
        {
          "output_type": "stream",
          "name": "stdout",
          "text": [
            "              precision    recall  f1-score   support\n",
            "\n",
            "           0       0.99      1.00      0.99      2514\n",
            "           1       0.00      0.00      0.00        33\n",
            "\n",
            "    accuracy                           0.99      2547\n",
            "   macro avg       0.49      0.50      0.50      2547\n",
            "weighted avg       0.97      0.99      0.98      2547\n",
            "\n"
          ]
        },
        {
          "output_type": "stream",
          "name": "stderr",
          "text": [
            "/usr/local/lib/python3.10/dist-packages/sklearn/metrics/_classification.py:1344: UndefinedMetricWarning: Precision and F-score are ill-defined and being set to 0.0 in labels with no predicted samples. Use `zero_division` parameter to control this behavior.\n",
            "  _warn_prf(average, modifier, msg_start, len(result))\n",
            "/usr/local/lib/python3.10/dist-packages/sklearn/metrics/_classification.py:1344: UndefinedMetricWarning: Precision and F-score are ill-defined and being set to 0.0 in labels with no predicted samples. Use `zero_division` parameter to control this behavior.\n",
            "  _warn_prf(average, modifier, msg_start, len(result))\n",
            "/usr/local/lib/python3.10/dist-packages/sklearn/metrics/_classification.py:1344: UndefinedMetricWarning: Precision and F-score are ill-defined and being set to 0.0 in labels with no predicted samples. Use `zero_division` parameter to control this behavior.\n",
            "  _warn_prf(average, modifier, msg_start, len(result))\n"
          ]
        }
      ]
    },
    {
      "cell_type": "code",
      "source": [
        "import numpy as np\n",
        "from sklearn.linear_model import LogisticRegression\n",
        "from sklearn.ensemble import AdaBoostClassifier\n",
        "from sklearn.base import BaseEstimator, ClassifierMixin\n",
        "from sklearn.neighbors import KNeighborsClassifier\n",
        "from sklearn.ensemble import RandomForestClassifier\n",
        "from sklearn.svm import SVC\n",
        "from sklearn.svm import LinearSVC\n",
        "from sklearn.model_selection import RepeatedStratifiedKFold\n",
        "from sklearn.model_selection import GridSearchCV\n",
        "from sklearn.metrics import make_scorer, confusion_matrix\n",
        "from sklearn.metrics import f1_score  #ytrue, ypred\n",
        "from sklearn.metrics import accuracy_score\n",
        "from sklearn.metrics import recall_score\n",
        "\n",
        "\n",
        "def grid_lr(X_train, y_train):\n",
        "    model = LogisticRegression(random_state=666, max_iter=1000)\n",
        "    solvers = ['liblinear']\n",
        "    penalty = ['l2','l1']\n",
        "    c_values = [ 10, 1.0, 0.1, 0.01, 0.001, ]\n",
        "    grid = dict(solver=solvers,penalty=penalty,C=c_values)\n",
        "    cv = RepeatedStratifiedKFold(n_splits=5, n_repeats=1, random_state=1)\n",
        "    grid_search = GridSearchCV(estimator=model, param_grid=grid, n_jobs=-1, cv=cv,\n",
        "                           scoring='roc_auc',error_score='raise')\n",
        "    grid_result = grid_search.fit(X_train, y_train)\n",
        "    return  grid_result.best_estimator_"
      ],
      "metadata": {
        "id": "MqJaJlZOHtEV"
      },
      "execution_count": null,
      "outputs": []
    },
    {
      "cell_type": "code",
      "source": [
        "classifier  = grid_lr(X_train, y_train)"
      ],
      "metadata": {
        "id": "yC1I1rEXH8zg"
      },
      "execution_count": null,
      "outputs": []
    }
  ]
}