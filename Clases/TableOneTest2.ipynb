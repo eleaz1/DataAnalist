{
  "nbformat": 4,
  "nbformat_minor": 0,
  "metadata": {
    "colab": {
      "provenance": [],
      "include_colab_link": true
    },
    "kernelspec": {
      "name": "python3",
      "display_name": "Python 3"
    },
    "language_info": {
      "name": "python"
    }
  },
  "cells": [
    {
      "cell_type": "markdown",
      "metadata": {
        "id": "view-in-github",
        "colab_type": "text"
      },
      "source": [
        "<a href=\"https://colab.research.google.com/github/eleaz1/DataAnalist/blob/main/Clases/TableOneTest2.ipynb\" target=\"_parent\"><img src=\"https://colab.research.google.com/assets/colab-badge.svg\" alt=\"Open In Colab\"/></a>"
      ]
    },
    {
      "cell_type": "code",
      "source": [
        "!pip install tableone"
      ],
      "metadata": {
        "colab": {
          "base_uri": "https://localhost:8080/"
        },
        "id": "BhiRR_c0EXPN",
        "outputId": "39cd0391-c36d-40f3-cb15-4bc4814284fa"
      },
      "execution_count": null,
      "outputs": [
        {
          "output_type": "stream",
          "name": "stderr",
          "text": [
            "/usr/local/lib/python3.10/dist-packages/ipykernel/ipkernel.py:283: DeprecationWarning: `should_run_async` will not call `transform_cell` automatically in the future. Please pass the result to `transformed_cell` argument and any exception that happen during thetransform in `preprocessing_exc_tuple` in IPython 7.17 and above.\n",
            "  and should_run_async(code)\n"
          ]
        },
        {
          "output_type": "stream",
          "name": "stdout",
          "text": [
            "Requirement already satisfied: tableone in /usr/local/lib/python3.10/dist-packages (0.8.0)\n",
            "Requirement already satisfied: jinja2 in /usr/local/lib/python3.10/dist-packages (from tableone) (3.1.3)\n",
            "Requirement already satisfied: numpy in /usr/local/lib/python3.10/dist-packages (from tableone) (1.25.2)\n",
            "Requirement already satisfied: openpyxl in /usr/local/lib/python3.10/dist-packages (from tableone) (3.1.2)\n",
            "Requirement already satisfied: pandas in /usr/local/lib/python3.10/dist-packages (from tableone) (2.0.3)\n",
            "Requirement already satisfied: scipy in /usr/local/lib/python3.10/dist-packages (from tableone) (1.11.4)\n",
            "Requirement already satisfied: statsmodels in /usr/local/lib/python3.10/dist-packages (from tableone) (0.14.1)\n",
            "Requirement already satisfied: tabulate in /usr/local/lib/python3.10/dist-packages (from tableone) (0.9.0)\n",
            "Requirement already satisfied: MarkupSafe>=2.0 in /usr/local/lib/python3.10/dist-packages (from jinja2->tableone) (2.1.5)\n",
            "Requirement already satisfied: et-xmlfile in /usr/local/lib/python3.10/dist-packages (from openpyxl->tableone) (1.1.0)\n",
            "Requirement already satisfied: python-dateutil>=2.8.2 in /usr/local/lib/python3.10/dist-packages (from pandas->tableone) (2.8.2)\n",
            "Requirement already satisfied: pytz>=2020.1 in /usr/local/lib/python3.10/dist-packages (from pandas->tableone) (2023.4)\n",
            "Requirement already satisfied: tzdata>=2022.1 in /usr/local/lib/python3.10/dist-packages (from pandas->tableone) (2024.1)\n",
            "Requirement already satisfied: patsy>=0.5.4 in /usr/local/lib/python3.10/dist-packages (from statsmodels->tableone) (0.5.6)\n",
            "Requirement already satisfied: packaging>=21.3 in /usr/local/lib/python3.10/dist-packages (from statsmodels->tableone) (24.0)\n",
            "Requirement already satisfied: six in /usr/local/lib/python3.10/dist-packages (from patsy>=0.5.4->statsmodels->tableone) (1.16.0)\n"
          ]
        }
      ]
    },
    {
      "cell_type": "code",
      "source": [
        "def classify_vars(df):\n",
        "    categorial, nonormal, normal = [],[],[]\n",
        "    for t in df.columns:\n",
        "        if df[t].dtypes==\"object\" or df[t].dtypes.name=='category':\n",
        "            categorial.append(t)\n",
        "        if df[t].dtypes==\"int64\" or df[t].dtypes==\"float64\":\n",
        "            n,p = stats.shapiro(df[t])\n",
        "            if p<0.05:\n",
        "                nonormal.append(t)\n",
        "            else:\n",
        "                normal.append(t)\n",
        "    return categorial, nonormal, normal"
      ],
      "metadata": {
        "colab": {
          "base_uri": "https://localhost:8080/"
        },
        "id": "nMd12H7vEaqM",
        "outputId": "0f214e08-4608-437f-8d93-5a2bf77ec410"
      },
      "execution_count": null,
      "outputs": [
        {
          "output_type": "stream",
          "name": "stderr",
          "text": [
            "/usr/local/lib/python3.10/dist-packages/ipykernel/ipkernel.py:283: DeprecationWarning: `should_run_async` will not call `transform_cell` automatically in the future. Please pass the result to `transformed_cell` argument and any exception that happen during thetransform in `preprocessing_exc_tuple` in IPython 7.17 and above.\n",
            "  and should_run_async(code)\n"
          ]
        }
      ]
    },
    {
      "cell_type": "code",
      "execution_count": null,
      "metadata": {
        "colab": {
          "base_uri": "https://localhost:8080/"
        },
        "id": "DDTLJgPpD92a",
        "outputId": "35e745d7-0507-4a19-d984-8c4bfbbf663e"
      },
      "outputs": [
        {
          "output_type": "stream",
          "name": "stderr",
          "text": [
            "/usr/local/lib/python3.10/dist-packages/ipykernel/ipkernel.py:283: DeprecationWarning: `should_run_async` will not call `transform_cell` automatically in the future. Please pass the result to `transformed_cell` argument and any exception that happen during thetransform in `preprocessing_exc_tuple` in IPython 7.17 and above.\n",
            "  and should_run_async(code)\n"
          ]
        }
      ],
      "source": [
        "import pandas as pd\n",
        "from scipy import stats\n",
        "from tableone import TableOne\n",
        "URL = \"https://raw.githubusercontent.com/it-ces/Datasets/main/wbdata-gdp-co2.csv\"\n",
        "df = pd.read_csv(URL)"
      ]
    },
    {
      "cell_type": "code",
      "source": [
        "df.columns"
      ],
      "metadata": {
        "colab": {
          "base_uri": "https://localhost:8080/"
        },
        "id": "0_Hdlm-XEeiW",
        "outputId": "8fce5806-cfd8-4ce0-bca2-1d8aef2be318"
      },
      "execution_count": null,
      "outputs": [
        {
          "output_type": "stream",
          "name": "stderr",
          "text": [
            "/usr/local/lib/python3.10/dist-packages/ipykernel/ipkernel.py:283: DeprecationWarning: `should_run_async` will not call `transform_cell` automatically in the future. Please pass the result to `transformed_cell` argument and any exception that happen during thetransform in `preprocessing_exc_tuple` in IPython 7.17 and above.\n",
            "  and should_run_async(code)\n"
          ]
        },
        {
          "output_type": "execute_result",
          "data": {
            "text/plain": [
              "Index(['value', 'region', 'incomeLevel', 'Gdp2020', 'Co22020'], dtype='object')"
            ]
          },
          "metadata": {},
          "execution_count": 26
        }
      ]
    },
    {
      "cell_type": "code",
      "source": [
        "df = df[['region', 'Co22020', 'incomeLevel']]"
      ],
      "metadata": {
        "colab": {
          "base_uri": "https://localhost:8080/"
        },
        "id": "cvKDh6-cEiq3",
        "outputId": "26bbc8a1-303f-459c-f0fd-cd34f88be67c"
      },
      "execution_count": null,
      "outputs": [
        {
          "output_type": "stream",
          "name": "stderr",
          "text": [
            "/usr/local/lib/python3.10/dist-packages/ipykernel/ipkernel.py:283: DeprecationWarning: `should_run_async` will not call `transform_cell` automatically in the future. Please pass the result to `transformed_cell` argument and any exception that happen during thetransform in `preprocessing_exc_tuple` in IPython 7.17 and above.\n",
            "  and should_run_async(code)\n"
          ]
        }
      ]
    },
    {
      "cell_type": "code",
      "source": [
        "categorical, nonormal, normal = classify_vars(df)"
      ],
      "metadata": {
        "colab": {
          "base_uri": "https://localhost:8080/"
        },
        "id": "LYS15trtEq2U",
        "outputId": "c14cb266-5c22-4387-b52e-7c5703de1b0f"
      },
      "execution_count": null,
      "outputs": [
        {
          "output_type": "stream",
          "name": "stderr",
          "text": [
            "/usr/local/lib/python3.10/dist-packages/ipykernel/ipkernel.py:283: DeprecationWarning: `should_run_async` will not call `transform_cell` automatically in the future. Please pass the result to `transformed_cell` argument and any exception that happen during thetransform in `preprocessing_exc_tuple` in IPython 7.17 and above.\n",
            "  and should_run_async(code)\n"
          ]
        }
      ]
    },
    {
      "cell_type": "code",
      "source": [
        "df  = df[df['incomeLevel']!='INX']"
      ],
      "metadata": {
        "colab": {
          "base_uri": "https://localhost:8080/"
        },
        "id": "Rpoo3zo5FFFd",
        "outputId": "e845db02-befa-4adb-e990-33cf743ad7aa"
      },
      "execution_count": null,
      "outputs": [
        {
          "output_type": "stream",
          "name": "stderr",
          "text": [
            "/usr/local/lib/python3.10/dist-packages/ipykernel/ipkernel.py:283: DeprecationWarning: `should_run_async` will not call `transform_cell` automatically in the future. Please pass the result to `transformed_cell` argument and any exception that happen during thetransform in `preprocessing_exc_tuple` in IPython 7.17 and above.\n",
            "  and should_run_async(code)\n"
          ]
        }
      ]
    },
    {
      "cell_type": "code",
      "source": [
        "mytable = TableOne( df , categorical=categorical , nonnormal=nonormal, groupby='incomeLevel', pval=True, pval_test_name=True )"
      ],
      "metadata": {
        "colab": {
          "base_uri": "https://localhost:8080/"
        },
        "id": "rI_xACIhEyMs",
        "outputId": "181acfc6-2a10-4c46-afe2-896e9dec4186"
      },
      "execution_count": null,
      "outputs": [
        {
          "output_type": "stream",
          "name": "stderr",
          "text": [
            "/usr/local/lib/python3.10/dist-packages/ipykernel/ipkernel.py:283: DeprecationWarning: `should_run_async` will not call `transform_cell` automatically in the future. Please pass the result to `transformed_cell` argument and any exception that happen during thetransform in `preprocessing_exc_tuple` in IPython 7.17 and above.\n",
            "  and should_run_async(code)\n",
            "/usr/local/lib/python3.10/dist-packages/tableone/tableone.py:242: DeprecationWarning: The pval_test_name argument is deprecated; use htest_name instead.\n",
            "  warnings.warn(\"The pval_test_name argument is deprecated; use \"\n"
          ]
        }
      ]
    },
    {
      "cell_type": "code",
      "source": [
        "mytable"
      ],
      "metadata": {
        "colab": {
          "base_uri": "https://localhost:8080/",
          "height": 578
        },
        "id": "ygdxm6xzFBRt",
        "outputId": "533cbd1e-3974-43b5-f24e-cffb0804945b"
      },
      "execution_count": null,
      "outputs": [
        {
          "output_type": "stream",
          "name": "stderr",
          "text": [
            "/usr/local/lib/python3.10/dist-packages/ipykernel/ipkernel.py:283: DeprecationWarning: `should_run_async` will not call `transform_cell` automatically in the future. Please pass the result to `transformed_cell` argument and any exception that happen during thetransform in `preprocessing_exc_tuple` in IPython 7.17 and above.\n",
            "  and should_run_async(code)\n"
          ]
        },
        {
          "output_type": "execute_result",
          "data": {
            "text/plain": [
              "                       Grouped by incomeLevel                                                                                                              \n",
              "                                      Missing    Overall         HIC         LIC         LMC         UMC P-Value                                       Test\n",
              "n                                                    216          82          26          54          54                                                   \n",
              "region, n (%)      EAS                      0  37 (17.1)   14 (17.1)     1 (3.8)   13 (24.1)    9 (16.7)  <0.001  Chi-squared (warning: expected count < 5)\n",
              "                   ECS                         58 (26.9)   38 (46.3)                 4 (7.4)   16 (29.6)                                                   \n",
              "                   LCN                         41 (19.0)   18 (22.0)                 4 (7.4)   19 (35.2)                                                   \n",
              "                   MEA                          21 (9.7)     8 (9.8)     2 (7.7)    8 (14.8)     3 (5.6)                                                   \n",
              "                   NAC                           3 (1.4)     3 (3.7)                                                                                       \n",
              "                   SSF                         48 (22.2)     1 (1.2)   22 (84.6)   19 (35.2)    6 (11.1)                                                   \n",
              "                   SAS                           8 (3.7)                 1 (3.8)    6 (11.1)     1 (1.9)                                                   \n",
              "Co22020, mean (SD)                         26  3.8 (4.6)   7.8 (5.9)   0.3 (0.4)   1.4 (1.4)   3.6 (2.7)  <0.001                              One-way ANOVA\n",
              "incomeLevel, n (%) HIC                      0  82 (38.0)  82 (100.0)                                      <0.001  Chi-squared (warning: expected count < 5)\n",
              "                   LIC                         26 (12.0)              26 (100.0)                                                                           \n",
              "                   LMC                         54 (25.0)                          54 (100.0)                                                               \n",
              "                   UMC                         54 (25.0)                                      54 (100.0)                                                   \n",
              "[1] Chi-squared tests for the following variables may be invalid due to the low number of observations: region, incomeLevel."
            ],
            "text/html": [
              "<div>\n",
              "<style scoped>\n",
              "    .dataframe tbody tr th:only-of-type {\n",
              "        vertical-align: middle;\n",
              "    }\n",
              "\n",
              "    .dataframe tbody tr th {\n",
              "        vertical-align: top;\n",
              "    }\n",
              "\n",
              "    .dataframe thead tr th {\n",
              "        text-align: left;\n",
              "    }\n",
              "</style>\n",
              "<table border=\"1\" class=\"dataframe\">\n",
              "  <thead>\n",
              "    <tr>\n",
              "      <th></th>\n",
              "      <th></th>\n",
              "      <th colspan=\"8\" halign=\"left\">Grouped by incomeLevel</th>\n",
              "    </tr>\n",
              "    <tr>\n",
              "      <th></th>\n",
              "      <th></th>\n",
              "      <th>Missing</th>\n",
              "      <th>Overall</th>\n",
              "      <th>HIC</th>\n",
              "      <th>LIC</th>\n",
              "      <th>LMC</th>\n",
              "      <th>UMC</th>\n",
              "      <th>P-Value</th>\n",
              "      <th>Test</th>\n",
              "    </tr>\n",
              "  </thead>\n",
              "  <tbody>\n",
              "    <tr>\n",
              "      <th>n</th>\n",
              "      <th></th>\n",
              "      <td></td>\n",
              "      <td>216</td>\n",
              "      <td>82</td>\n",
              "      <td>26</td>\n",
              "      <td>54</td>\n",
              "      <td>54</td>\n",
              "      <td></td>\n",
              "      <td></td>\n",
              "    </tr>\n",
              "    <tr>\n",
              "      <th rowspan=\"7\" valign=\"top\">region, n (%)</th>\n",
              "      <th>EAS</th>\n",
              "      <td>0</td>\n",
              "      <td>37 (17.1)</td>\n",
              "      <td>14 (17.1)</td>\n",
              "      <td>1 (3.8)</td>\n",
              "      <td>13 (24.1)</td>\n",
              "      <td>9 (16.7)</td>\n",
              "      <td>&lt;0.001</td>\n",
              "      <td>Chi-squared (warning: expected count &lt; 5)</td>\n",
              "    </tr>\n",
              "    <tr>\n",
              "      <th>ECS</th>\n",
              "      <td></td>\n",
              "      <td>58 (26.9)</td>\n",
              "      <td>38 (46.3)</td>\n",
              "      <td></td>\n",
              "      <td>4 (7.4)</td>\n",
              "      <td>16 (29.6)</td>\n",
              "      <td></td>\n",
              "      <td></td>\n",
              "    </tr>\n",
              "    <tr>\n",
              "      <th>LCN</th>\n",
              "      <td></td>\n",
              "      <td>41 (19.0)</td>\n",
              "      <td>18 (22.0)</td>\n",
              "      <td></td>\n",
              "      <td>4 (7.4)</td>\n",
              "      <td>19 (35.2)</td>\n",
              "      <td></td>\n",
              "      <td></td>\n",
              "    </tr>\n",
              "    <tr>\n",
              "      <th>MEA</th>\n",
              "      <td></td>\n",
              "      <td>21 (9.7)</td>\n",
              "      <td>8 (9.8)</td>\n",
              "      <td>2 (7.7)</td>\n",
              "      <td>8 (14.8)</td>\n",
              "      <td>3 (5.6)</td>\n",
              "      <td></td>\n",
              "      <td></td>\n",
              "    </tr>\n",
              "    <tr>\n",
              "      <th>NAC</th>\n",
              "      <td></td>\n",
              "      <td>3 (1.4)</td>\n",
              "      <td>3 (3.7)</td>\n",
              "      <td></td>\n",
              "      <td></td>\n",
              "      <td></td>\n",
              "      <td></td>\n",
              "      <td></td>\n",
              "    </tr>\n",
              "    <tr>\n",
              "      <th>SSF</th>\n",
              "      <td></td>\n",
              "      <td>48 (22.2)</td>\n",
              "      <td>1 (1.2)</td>\n",
              "      <td>22 (84.6)</td>\n",
              "      <td>19 (35.2)</td>\n",
              "      <td>6 (11.1)</td>\n",
              "      <td></td>\n",
              "      <td></td>\n",
              "    </tr>\n",
              "    <tr>\n",
              "      <th>SAS</th>\n",
              "      <td></td>\n",
              "      <td>8 (3.7)</td>\n",
              "      <td></td>\n",
              "      <td>1 (3.8)</td>\n",
              "      <td>6 (11.1)</td>\n",
              "      <td>1 (1.9)</td>\n",
              "      <td></td>\n",
              "      <td></td>\n",
              "    </tr>\n",
              "    <tr>\n",
              "      <th>Co22020, mean (SD)</th>\n",
              "      <th></th>\n",
              "      <td>26</td>\n",
              "      <td>3.8 (4.6)</td>\n",
              "      <td>7.8 (5.9)</td>\n",
              "      <td>0.3 (0.4)</td>\n",
              "      <td>1.4 (1.4)</td>\n",
              "      <td>3.6 (2.7)</td>\n",
              "      <td>&lt;0.001</td>\n",
              "      <td>One-way ANOVA</td>\n",
              "    </tr>\n",
              "    <tr>\n",
              "      <th rowspan=\"4\" valign=\"top\">incomeLevel, n (%)</th>\n",
              "      <th>HIC</th>\n",
              "      <td>0</td>\n",
              "      <td>82 (38.0)</td>\n",
              "      <td>82 (100.0)</td>\n",
              "      <td></td>\n",
              "      <td></td>\n",
              "      <td></td>\n",
              "      <td>&lt;0.001</td>\n",
              "      <td>Chi-squared (warning: expected count &lt; 5)</td>\n",
              "    </tr>\n",
              "    <tr>\n",
              "      <th>LIC</th>\n",
              "      <td></td>\n",
              "      <td>26 (12.0)</td>\n",
              "      <td></td>\n",
              "      <td>26 (100.0)</td>\n",
              "      <td></td>\n",
              "      <td></td>\n",
              "      <td></td>\n",
              "      <td></td>\n",
              "    </tr>\n",
              "    <tr>\n",
              "      <th>LMC</th>\n",
              "      <td></td>\n",
              "      <td>54 (25.0)</td>\n",
              "      <td></td>\n",
              "      <td></td>\n",
              "      <td>54 (100.0)</td>\n",
              "      <td></td>\n",
              "      <td></td>\n",
              "      <td></td>\n",
              "    </tr>\n",
              "    <tr>\n",
              "      <th>UMC</th>\n",
              "      <td></td>\n",
              "      <td>54 (25.0)</td>\n",
              "      <td></td>\n",
              "      <td></td>\n",
              "      <td></td>\n",
              "      <td>54 (100.0)</td>\n",
              "      <td></td>\n",
              "      <td></td>\n",
              "    </tr>\n",
              "  </tbody>\n",
              "</table>\n",
              "</div><br />[1] Chi-squared tests for the following variables may be invalid due to the low number of observations: region, incomeLevel.<br />"
            ]
          },
          "metadata": {},
          "execution_count": 31
        }
      ]
    }
  ]
}