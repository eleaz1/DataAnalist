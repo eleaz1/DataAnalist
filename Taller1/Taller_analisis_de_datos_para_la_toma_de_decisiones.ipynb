{
 "nbformat": 4,
 "nbformat_minor": 0,
 "metadata": {
  "colab": {
   "provenance": [],
   "collapsed_sections": [
    "tuaAdFuxiLnk",
    "qgV0rj8WiRS4",
    "SaxXks_Ainym",
    "yED5PsucjDS4"
   ],
   "authorship_tag": "ABX9TyN/5s5nlGOWhR3oaP1IZ9Rn",
   "include_colab_link": true
  },
  "kernelspec": {
   "name": "python3",
   "language": "python",
   "display_name": "Python 3 (ipykernel)"
  },
  "language_info": {
   "name": "python"
  }
 },
 "cells": [
  {
   "cell_type": "markdown",
   "metadata": {
    "id": "view-in-github",
    "colab_type": "text"
   },
   "source": [
    "<a href=\"https://colab.research.google.com/github/eleaz1/DataAnalist/blob/main/Taller1/Taller_analisis_de_datos_para_la_toma_de_decisiones.ipynb\" target=\"_parent\"><img src=\"https://colab.research.google.com/assets/colab-badge.svg\" alt=\"Open In Colab\"/></a>"
   ]
  },
  {
   "cell_type": "markdown",
   "source": [
    "# **Taller análisis de datos para la toma de decisiones**\n",
    "\n",
    "\n",
    "---\n",
    "\n",
    "Integrantes:\n",
    "Iván Eleazar Agudelo Benavides"
   ],
   "metadata": {
    "id": "6hcrozqQjLJo"
   }
  },
  {
   "cell_type": "code",
   "execution_count": 1,
   "metadata": {
    "id": "xYQLdH_Nzw_d",
    "ExecuteTime": {
     "end_time": "2024-04-14T14:41:01.705416Z",
     "start_time": "2024-04-14T14:41:01.200104Z"
    }
   },
   "outputs": [],
   "source": [
    "import pandas as pd\n",
    "import matplotlib.pyplot as plt"
   ]
  },
  {
   "cell_type": "code",
   "source": [
    "!pip install tableone"
   ],
   "metadata": {
    "colab": {
     "base_uri": "https://localhost:8080/"
    },
    "id": "8mOWOepmONSd",
    "outputId": "468006e9-66f5-40e0-ec36-5ab01bb2ad2f",
    "ExecuteTime": {
     "end_time": "2024-04-14T14:41:03.164636Z",
     "start_time": "2024-04-14T14:41:01.706261Z"
    }
   },
   "execution_count": 2,
   "outputs": [
    {
     "name": "stdout",
     "output_type": "stream",
     "text": [
      "Requirement already satisfied: tableone in /Users/ieagudelob/anaconda3/lib/python3.10/site-packages (0.8.0)\r\n",
      "Requirement already satisfied: pandas in /Users/ieagudelob/anaconda3/lib/python3.10/site-packages (from tableone) (1.5.3)\r\n",
      "Requirement already satisfied: scipy in /Users/ieagudelob/anaconda3/lib/python3.10/site-packages (from tableone) (1.10.0)\r\n",
      "Requirement already satisfied: tabulate in /Users/ieagudelob/anaconda3/lib/python3.10/site-packages (from tableone) (0.8.10)\r\n",
      "Requirement already satisfied: numpy in /Users/ieagudelob/anaconda3/lib/python3.10/site-packages (from tableone) (1.23.5)\r\n",
      "Requirement already satisfied: statsmodels in /Users/ieagudelob/anaconda3/lib/python3.10/site-packages (from tableone) (0.13.5)\r\n",
      "Requirement already satisfied: openpyxl in /Users/ieagudelob/anaconda3/lib/python3.10/site-packages (from tableone) (3.0.10)\r\n",
      "Requirement already satisfied: jinja2 in /Users/ieagudelob/anaconda3/lib/python3.10/site-packages (from tableone) (3.1.2)\r\n",
      "Requirement already satisfied: MarkupSafe>=2.0 in /Users/ieagudelob/anaconda3/lib/python3.10/site-packages (from jinja2->tableone) (2.1.1)\r\n",
      "Requirement already satisfied: et_xmlfile in /Users/ieagudelob/anaconda3/lib/python3.10/site-packages (from openpyxl->tableone) (1.1.0)\r\n",
      "Requirement already satisfied: python-dateutil>=2.8.1 in /Users/ieagudelob/anaconda3/lib/python3.10/site-packages (from pandas->tableone) (2.8.2)\r\n",
      "Requirement already satisfied: pytz>=2020.1 in /Users/ieagudelob/anaconda3/lib/python3.10/site-packages (from pandas->tableone) (2022.7)\r\n",
      "Requirement already satisfied: patsy>=0.5.2 in /Users/ieagudelob/anaconda3/lib/python3.10/site-packages (from statsmodels->tableone) (0.5.3)\r\n",
      "Requirement already satisfied: packaging>=21.3 in /Users/ieagudelob/anaconda3/lib/python3.10/site-packages (from statsmodels->tableone) (22.0)\r\n",
      "Requirement already satisfied: six in /Users/ieagudelob/anaconda3/lib/python3.10/site-packages (from patsy>=0.5.2->statsmodels->tableone) (1.16.0)\r\n"
     ]
    }
   ]
  },
  {
   "cell_type": "markdown",
   "source": [
    "## Cargue de información y limpieza de datos"
   ],
   "metadata": {
    "id": "DniMv5Yfhi9y"
   }
  },
  {
   "cell_type": "code",
   "source": [
    "URL = \"https://raw.githubusercontent.com/it-ces/Datasets/main/tallermicro.csv\"\n",
    "df = pd.read_csv(URL)\n",
    "df = df.drop('Unnamed: 0', axis=1)\n",
    "# df['state'].unique()\n",
    "df = df.rename(columns={'q(uantities)': 'quantities'})\n",
    "df['state'] = df['state'].apply(lambda x: 'liquidación' if x.startswith('liqu') else x)\n",
    "# df['state'].value_counts()\n",
    "df.head()\n"
   ],
   "metadata": {
    "id": "enU8Gr80z8FQ",
    "colab": {
     "base_uri": "https://localhost:8080/",
     "height": 206
    },
    "outputId": "fecd4055-86bb-4869-b3f2-d93b0fb28389",
    "ExecuteTime": {
     "end_time": "2024-04-14T14:41:03.432217Z",
     "start_time": "2024-04-14T14:41:03.167664Z"
    }
   },
   "execution_count": 3,
   "outputs": [
    {
     "data": {
      "text/plain": "   totalCost(q+1)  totalCost(q)  quantities  prices   state\n0            2024          2000         101      24  activa\n1            1473          1464         184      19  activa\n2            3794          3774         223       2  activa\n3            1431          1414         102      17  activa\n4            1934          1920         161      14  activa",
      "text/html": "<div>\n<style scoped>\n    .dataframe tbody tr th:only-of-type {\n        vertical-align: middle;\n    }\n\n    .dataframe tbody tr th {\n        vertical-align: top;\n    }\n\n    .dataframe thead th {\n        text-align: right;\n    }\n</style>\n<table border=\"1\" class=\"dataframe\">\n  <thead>\n    <tr style=\"text-align: right;\">\n      <th></th>\n      <th>totalCost(q+1)</th>\n      <th>totalCost(q)</th>\n      <th>quantities</th>\n      <th>prices</th>\n      <th>state</th>\n    </tr>\n  </thead>\n  <tbody>\n    <tr>\n      <th>0</th>\n      <td>2024</td>\n      <td>2000</td>\n      <td>101</td>\n      <td>24</td>\n      <td>activa</td>\n    </tr>\n    <tr>\n      <th>1</th>\n      <td>1473</td>\n      <td>1464</td>\n      <td>184</td>\n      <td>19</td>\n      <td>activa</td>\n    </tr>\n    <tr>\n      <th>2</th>\n      <td>3794</td>\n      <td>3774</td>\n      <td>223</td>\n      <td>2</td>\n      <td>activa</td>\n    </tr>\n    <tr>\n      <th>3</th>\n      <td>1431</td>\n      <td>1414</td>\n      <td>102</td>\n      <td>17</td>\n      <td>activa</td>\n    </tr>\n    <tr>\n      <th>4</th>\n      <td>1934</td>\n      <td>1920</td>\n      <td>161</td>\n      <td>14</td>\n      <td>activa</td>\n    </tr>\n  </tbody>\n</table>\n</div>"
     },
     "execution_count": 3,
     "metadata": {},
     "output_type": "execute_result"
    }
   ]
  },
  {
   "cell_type": "markdown",
   "source": [
    "## Calcular costo promedio"
   ],
   "metadata": {
    "id": "tuaAdFuxiLnk"
   }
  },
  {
   "cell_type": "code",
   "source": [
    "# Calcular costo promedio\n",
    "df['averageCost'] = df['totalCost(q)'] / df['quantities']\n",
    "df"
   ],
   "metadata": {
    "colab": {
     "base_uri": "https://localhost:8080/",
     "height": 423
    },
    "id": "DJQ0EoHi2eHw",
    "outputId": "b6d95663-45b2-4707-8790-c7cb934ed460",
    "ExecuteTime": {
     "end_time": "2024-04-14T14:41:03.442338Z",
     "start_time": "2024-04-14T14:41:03.433067Z"
    }
   },
   "execution_count": 4,
   "outputs": [
    {
     "data": {
      "text/plain": "     totalCost(q+1)  totalCost(q)  quantities  prices        state  \\\n0              2024          2000         101      24       activa   \n1              1473          1464         184      19       activa   \n2              3794          3774         223       2       activa   \n3              1431          1414         102      17       activa   \n4              1934          1920         161      14       activa   \n..              ...           ...         ...     ...          ...   \n245             540           536         135       4       activa   \n246            2844          2820         142      18  liquidación   \n247            2741          2712         114       3       activa   \n248            2125          2100         101      21       activa   \n249            2884          2860         144      24       activa   \n\n     averageCost  \n0      19.801980  \n1       7.956522  \n2      16.923767  \n3      13.862745  \n4      11.925466  \n..           ...  \n245     3.970370  \n246    19.859155  \n247    23.789474  \n248    20.792079  \n249    19.861111  \n\n[250 rows x 6 columns]",
      "text/html": "<div>\n<style scoped>\n    .dataframe tbody tr th:only-of-type {\n        vertical-align: middle;\n    }\n\n    .dataframe tbody tr th {\n        vertical-align: top;\n    }\n\n    .dataframe thead th {\n        text-align: right;\n    }\n</style>\n<table border=\"1\" class=\"dataframe\">\n  <thead>\n    <tr style=\"text-align: right;\">\n      <th></th>\n      <th>totalCost(q+1)</th>\n      <th>totalCost(q)</th>\n      <th>quantities</th>\n      <th>prices</th>\n      <th>state</th>\n      <th>averageCost</th>\n    </tr>\n  </thead>\n  <tbody>\n    <tr>\n      <th>0</th>\n      <td>2024</td>\n      <td>2000</td>\n      <td>101</td>\n      <td>24</td>\n      <td>activa</td>\n      <td>19.801980</td>\n    </tr>\n    <tr>\n      <th>1</th>\n      <td>1473</td>\n      <td>1464</td>\n      <td>184</td>\n      <td>19</td>\n      <td>activa</td>\n      <td>7.956522</td>\n    </tr>\n    <tr>\n      <th>2</th>\n      <td>3794</td>\n      <td>3774</td>\n      <td>223</td>\n      <td>2</td>\n      <td>activa</td>\n      <td>16.923767</td>\n    </tr>\n    <tr>\n      <th>3</th>\n      <td>1431</td>\n      <td>1414</td>\n      <td>102</td>\n      <td>17</td>\n      <td>activa</td>\n      <td>13.862745</td>\n    </tr>\n    <tr>\n      <th>4</th>\n      <td>1934</td>\n      <td>1920</td>\n      <td>161</td>\n      <td>14</td>\n      <td>activa</td>\n      <td>11.925466</td>\n    </tr>\n    <tr>\n      <th>...</th>\n      <td>...</td>\n      <td>...</td>\n      <td>...</td>\n      <td>...</td>\n      <td>...</td>\n      <td>...</td>\n    </tr>\n    <tr>\n      <th>245</th>\n      <td>540</td>\n      <td>536</td>\n      <td>135</td>\n      <td>4</td>\n      <td>activa</td>\n      <td>3.970370</td>\n    </tr>\n    <tr>\n      <th>246</th>\n      <td>2844</td>\n      <td>2820</td>\n      <td>142</td>\n      <td>18</td>\n      <td>liquidación</td>\n      <td>19.859155</td>\n    </tr>\n    <tr>\n      <th>247</th>\n      <td>2741</td>\n      <td>2712</td>\n      <td>114</td>\n      <td>3</td>\n      <td>activa</td>\n      <td>23.789474</td>\n    </tr>\n    <tr>\n      <th>248</th>\n      <td>2125</td>\n      <td>2100</td>\n      <td>101</td>\n      <td>21</td>\n      <td>activa</td>\n      <td>20.792079</td>\n    </tr>\n    <tr>\n      <th>249</th>\n      <td>2884</td>\n      <td>2860</td>\n      <td>144</td>\n      <td>24</td>\n      <td>activa</td>\n      <td>19.861111</td>\n    </tr>\n  </tbody>\n</table>\n<p>250 rows × 6 columns</p>\n</div>"
     },
     "execution_count": 4,
     "metadata": {},
     "output_type": "execute_result"
    }
   ]
  },
  {
   "cell_type": "markdown",
   "source": [
    "## Calcular el costo marginal"
   ],
   "metadata": {
    "id": "qgV0rj8WiRS4"
   }
  },
  {
   "cell_type": "code",
   "source": [
    "# Calcular el costo marginal\n",
    "# El costo marginal es el cambio en el costo total dividido por el cambio en la cantidad\n",
    "df['MarginalCost'] = df['totalCost(q+1)'] - df['totalCost(q)']\n",
    "df"
   ],
   "metadata": {
    "id": "k9hirUDFiYvO",
    "colab": {
     "base_uri": "https://localhost:8080/",
     "height": 0
    },
    "outputId": "b6eb1a4e-f4df-4373-d527-e26885b1c311",
    "ExecuteTime": {
     "end_time": "2024-04-14T14:41:03.457841Z",
     "start_time": "2024-04-14T14:41:03.446553Z"
    }
   },
   "execution_count": 5,
   "outputs": [
    {
     "data": {
      "text/plain": "     totalCost(q+1)  totalCost(q)  quantities  prices        state  \\\n0              2024          2000         101      24       activa   \n1              1473          1464         184      19       activa   \n2              3794          3774         223       2       activa   \n3              1431          1414         102      17       activa   \n4              1934          1920         161      14       activa   \n..              ...           ...         ...     ...          ...   \n245             540           536         135       4       activa   \n246            2844          2820         142      18  liquidación   \n247            2741          2712         114       3       activa   \n248            2125          2100         101      21       activa   \n249            2884          2860         144      24       activa   \n\n     averageCost  MarginalCost  \n0      19.801980            24  \n1       7.956522             9  \n2      16.923767            20  \n3      13.862745            17  \n4      11.925466            14  \n..           ...           ...  \n245     3.970370             4  \n246    19.859155            24  \n247    23.789474            29  \n248    20.792079            25  \n249    19.861111            24  \n\n[250 rows x 7 columns]",
      "text/html": "<div>\n<style scoped>\n    .dataframe tbody tr th:only-of-type {\n        vertical-align: middle;\n    }\n\n    .dataframe tbody tr th {\n        vertical-align: top;\n    }\n\n    .dataframe thead th {\n        text-align: right;\n    }\n</style>\n<table border=\"1\" class=\"dataframe\">\n  <thead>\n    <tr style=\"text-align: right;\">\n      <th></th>\n      <th>totalCost(q+1)</th>\n      <th>totalCost(q)</th>\n      <th>quantities</th>\n      <th>prices</th>\n      <th>state</th>\n      <th>averageCost</th>\n      <th>MarginalCost</th>\n    </tr>\n  </thead>\n  <tbody>\n    <tr>\n      <th>0</th>\n      <td>2024</td>\n      <td>2000</td>\n      <td>101</td>\n      <td>24</td>\n      <td>activa</td>\n      <td>19.801980</td>\n      <td>24</td>\n    </tr>\n    <tr>\n      <th>1</th>\n      <td>1473</td>\n      <td>1464</td>\n      <td>184</td>\n      <td>19</td>\n      <td>activa</td>\n      <td>7.956522</td>\n      <td>9</td>\n    </tr>\n    <tr>\n      <th>2</th>\n      <td>3794</td>\n      <td>3774</td>\n      <td>223</td>\n      <td>2</td>\n      <td>activa</td>\n      <td>16.923767</td>\n      <td>20</td>\n    </tr>\n    <tr>\n      <th>3</th>\n      <td>1431</td>\n      <td>1414</td>\n      <td>102</td>\n      <td>17</td>\n      <td>activa</td>\n      <td>13.862745</td>\n      <td>17</td>\n    </tr>\n    <tr>\n      <th>4</th>\n      <td>1934</td>\n      <td>1920</td>\n      <td>161</td>\n      <td>14</td>\n      <td>activa</td>\n      <td>11.925466</td>\n      <td>14</td>\n    </tr>\n    <tr>\n      <th>...</th>\n      <td>...</td>\n      <td>...</td>\n      <td>...</td>\n      <td>...</td>\n      <td>...</td>\n      <td>...</td>\n      <td>...</td>\n    </tr>\n    <tr>\n      <th>245</th>\n      <td>540</td>\n      <td>536</td>\n      <td>135</td>\n      <td>4</td>\n      <td>activa</td>\n      <td>3.970370</td>\n      <td>4</td>\n    </tr>\n    <tr>\n      <th>246</th>\n      <td>2844</td>\n      <td>2820</td>\n      <td>142</td>\n      <td>18</td>\n      <td>liquidación</td>\n      <td>19.859155</td>\n      <td>24</td>\n    </tr>\n    <tr>\n      <th>247</th>\n      <td>2741</td>\n      <td>2712</td>\n      <td>114</td>\n      <td>3</td>\n      <td>activa</td>\n      <td>23.789474</td>\n      <td>29</td>\n    </tr>\n    <tr>\n      <th>248</th>\n      <td>2125</td>\n      <td>2100</td>\n      <td>101</td>\n      <td>21</td>\n      <td>activa</td>\n      <td>20.792079</td>\n      <td>25</td>\n    </tr>\n    <tr>\n      <th>249</th>\n      <td>2884</td>\n      <td>2860</td>\n      <td>144</td>\n      <td>24</td>\n      <td>activa</td>\n      <td>19.861111</td>\n      <td>24</td>\n    </tr>\n  </tbody>\n</table>\n<p>250 rows × 7 columns</p>\n</div>"
     },
     "execution_count": 5,
     "metadata": {},
     "output_type": "execute_result"
    }
   ]
  },
  {
   "cell_type": "markdown",
   "source": [
    "## Determinar el número de empresas que se encuentran maximizando el beneficio."
   ],
   "metadata": {
    "id": "SaxXks_Ainym"
   }
  },
  {
   "cell_type": "code",
   "source": [
    "# Determinar el número de empresas que se encuentran maximizando el beneficio.\n",
    "print('Son '+str(len(df[df['prices'] == df['MarginalCost']]) )+' las empresas que se encuentran maximizando el beneficio')"
   ],
   "metadata": {
    "id": "qAQPELqZiqSy",
    "colab": {
     "base_uri": "https://localhost:8080/"
    },
    "outputId": "3e9e1f57-e29d-4210-a9a0-6deb66287223",
    "ExecuteTime": {
     "end_time": "2024-04-14T14:41:03.479472Z",
     "start_time": "2024-04-14T14:41:03.455026Z"
    }
   },
   "execution_count": 6,
   "outputs": [
    {
     "name": "stdout",
     "output_type": "stream",
     "text": [
      "Son 93 las empresas que se encuentran maximizando el beneficio\n"
     ]
    }
   ]
  },
  {
   "cell_type": "markdown",
   "source": [
    "## Determine que empresas activas tienen un beneficio positivo."
   ],
   "metadata": {
    "id": "yED5PsucjDS4"
   }
  },
  {
   "cell_type": "code",
   "source": [
    "# Determine que empresas activas tienen un beneficio positivo.\n",
    "df['Income'] = df['quantities']*df['prices']\n",
    "df['Profits'] = df['Income'] - df['totalCost(q)']\n",
    "active_companies = df.loc[(df['Profits'] > 0) & (df['state'] == 'activa'), 'Profits'].count()\n",
    "\n",
    "print('Son '+str(active_companies)+' las empresas activas tienen un beneficio positivo')\n"
   ],
   "metadata": {
    "id": "71cPuhUMjGP0",
    "colab": {
     "base_uri": "https://localhost:8080/"
    },
    "outputId": "82e04342-6633-4ef9-f62e-2f1efe09d068",
    "ExecuteTime": {
     "end_time": "2024-04-14T14:41:03.592239Z",
     "start_time": "2024-04-14T14:41:03.465642Z"
    }
   },
   "execution_count": 7,
   "outputs": [
    {
     "name": "stdout",
     "output_type": "stream",
     "text": [
      "Son 139 las empresas activas tienen un beneficio positivo\n"
     ]
    }
   ]
  },
  {
   "cell_type": "markdown",
   "source": [
    "## Determine que empresas no-activas o en liquidaci´on tienen un beneficio negativo."
   ],
   "metadata": {
    "id": "ri6bJCqlejJ5"
   }
  },
  {
   "cell_type": "code",
   "source": [
    "# Determine que empresas no-activas o en liquidaci´on tienen un beneficio negativo.\n",
    "no_active = df.loc[((df['state'] == 'liquidación') | (df['state'] == 'no-activa')) & (df['Profits'] < 0), 'Profits'].count()\n",
    "print('Son '+str(no_active)+' las empresas no-activas o en liquidaci´on tienen un beneficio negativo')\n"
   ],
   "metadata": {
    "colab": {
     "base_uri": "https://localhost:8080/"
    },
    "id": "0GzKHa5DemC5",
    "outputId": "37a95ffe-1314-4696-8ca2-a9a6c6c3e4c8",
    "ExecuteTime": {
     "end_time": "2024-04-14T14:41:03.607602Z",
     "start_time": "2024-04-14T14:41:03.474375Z"
    }
   },
   "execution_count": 8,
   "outputs": [
    {
     "name": "stdout",
     "output_type": "stream",
     "text": [
      "Son 24 las empresas no-activas o en liquidaci´on tienen un beneficio negativo\n"
     ]
    }
   ]
  },
  {
   "cell_type": "markdown",
   "source": [
    "## Determinar la participación del ingreso de cada empresa al sector (realice una gráfica para esto)"
   ],
   "metadata": {
    "id": "KcGHdLGqr8ZM"
   }
  },
  {
   "cell_type": "code",
   "source": [
    "totalIncome = df['Income'].sum()\n",
    "df['Participation'] = (df['Income'] / totalIncome)\n",
    "\n",
    "# 10 top vs 10 low\n",
    "# Ordenamos el DataFrame por la columna 'Participation'\n",
    "df_sorted = df.sort_values(by='Participation')\n",
    "\n",
    "# Tomamos las primeras y últimas 10 filas para las empresas con mayores y menores participaciones respectivamente\n",
    "top_10 = df_sorted.tail(10)\n",
    "bottom_10 = df_sorted.head(10)\n",
    "\n",
    "# Creamos un nuevo DataFrame solo con las 10 empresas de cada categoría para facilitar la visualización\n",
    "top_bottom_10 = pd.concat([top_10, bottom_10])\n",
    "\n",
    "# Creamos el gráfico de barras\n",
    "plt.figure(figsize=(10, 6))\n",
    "plt.bar(top_bottom_10.index, top_bottom_10['Participation'], color=['green']*10 + ['red']*10)\n",
    "plt.ylabel('Participation')\n",
    "plt.xlabel('Índices de registros')\n",
    "plt.title('Top 10 vs Bottom 10 Empresas por Ingresos')\n",
    "plt.show()\n"
   ],
   "metadata": {
    "colab": {
     "base_uri": "https://localhost:8080/",
     "height": 566
    },
    "id": "-FtKdb_ysZdX",
    "outputId": "717bb31a-cfe6-4b95-aa7f-130bea06416c",
    "ExecuteTime": {
     "end_time": "2024-04-14T14:41:03.735460Z",
     "start_time": "2024-04-14T14:41:03.482848Z"
    }
   },
   "execution_count": 9,
   "outputs": [
    {
     "data": {
      "text/plain": "<Figure size 1000x600 with 1 Axes>",
      "image/png": "[encoded data removed]"
     },
     "metadata": {},
     "output_type": "display_data"
    }
   ]
  },
  {
   "cell_type": "markdown",
   "source": [
    "## Determinar cuales son los percentiles 25,50,75 para los ingresos, y en que percentil se encuentra cada empresa."
   ],
   "metadata": {
    "id": "gSvVF2O32KpJ"
   }
  },
  {
   "cell_type": "code",
   "source": [
    "df.describe()\n",
    "# Calculando los percentiles\n",
    "percentil_25 = df['Income'].quantile(0.25)\n",
    "percentil_50 = df['Income'].quantile(0.50)\n",
    "percentil_75 = df['Income'].quantile(0.75)\n",
    "\n",
    "# Función para determinar la ubicación de los datos en relación con los percentiles\n",
    "def define_position(data):\n",
    "    if data <= percentil_25:\n",
    "        return 'Percentile 25'\n",
    "    elif data <= percentil_50:\n",
    "        return 'Percentile 50'\n",
    "    elif data <= percentil_75:\n",
    "        return 'Percentile 75'\n",
    "    else:\n",
    "        return 'above the 75'\n",
    "\n",
    "# Agregando la columna de ubicaciones\n",
    "df['Position'] = df['Income'].apply(define_position)\n",
    "df"
   ],
   "metadata": {
    "colab": {
     "base_uri": "https://localhost:8080/",
     "height": 617
    },
    "id": "aQ4gAnxC1al_",
    "outputId": "72894ee9-90c1-48a7-b0a8-368a33210722",
    "ExecuteTime": {
     "end_time": "2024-04-14T14:41:03.844261Z",
     "start_time": "2024-04-14T14:41:03.666365Z"
    }
   },
   "execution_count": 10,
   "outputs": [
    {
     "data": {
      "text/plain": "     totalCost(q+1)  totalCost(q)  quantities  prices        state  \\\n0              2024          2000         101      24       activa   \n1              1473          1464         184      19       activa   \n2              3794          3774         223       2       activa   \n3              1431          1414         102      17       activa   \n4              1934          1920         161      14       activa   \n..              ...           ...         ...     ...          ...   \n245             540           536         135       4       activa   \n246            2844          2820         142      18  liquidación   \n247            2741          2712         114       3       activa   \n248            2125          2100         101      21       activa   \n249            2884          2860         144      24       activa   \n\n     averageCost  MarginalCost  Income  Profits  Participation       Position  \n0      19.801980            24    2424      424       0.004271  Percentile 75  \n1       7.956522             9    3496     2032       0.006160   above the 75  \n2      16.923767            20     446    -3328       0.000786  Percentile 25  \n3      13.862745            17    1734      320       0.003056  Percentile 50  \n4      11.925466            14    2254      334       0.003972  Percentile 75  \n..           ...           ...     ...      ...            ...            ...  \n245     3.970370             4     540        4       0.000952  Percentile 25  \n246    19.859155            24    2556     -264       0.004504  Percentile 75  \n247    23.789474            29     342    -2370       0.000603  Percentile 25  \n248    20.792079            25    2121       21       0.003737  Percentile 75  \n249    19.861111            24    3456      596       0.006090   above the 75  \n\n[250 rows x 11 columns]",
      "text/html": "<div>\n<style scoped>\n    .dataframe tbody tr th:only-of-type {\n        vertical-align: middle;\n    }\n\n    .dataframe tbody tr th {\n        vertical-align: top;\n    }\n\n    .dataframe thead th {\n        text-align: right;\n    }\n</style>\n<table border=\"1\" class=\"dataframe\">\n  <thead>\n    <tr style=\"text-align: right;\">\n      <th></th>\n      <th>totalCost(q+1)</th>\n      <th>totalCost(q)</th>\n      <th>quantities</th>\n      <th>prices</th>\n      <th>state</th>\n      <th>averageCost</th>\n      <th>MarginalCost</th>\n      <th>Income</th>\n      <th>Profits</th>\n      <th>Participation</th>\n      <th>Position</th>\n    </tr>\n  </thead>\n  <tbody>\n    <tr>\n      <th>0</th>\n      <td>2024</td>\n      <td>2000</td>\n      <td>101</td>\n      <td>24</td>\n      <td>activa</td>\n      <td>19.801980</td>\n      <td>24</td>\n      <td>2424</td>\n      <td>424</td>\n      <td>0.004271</td>\n      <td>Percentile 75</td>\n    </tr>\n    <tr>\n      <th>1</th>\n      <td>1473</td>\n      <td>1464</td>\n      <td>184</td>\n      <td>19</td>\n      <td>activa</td>\n      <td>7.956522</td>\n      <td>9</td>\n      <td>3496</td>\n      <td>2032</td>\n      <td>0.006160</td>\n      <td>above the 75</td>\n    </tr>\n    <tr>\n      <th>2</th>\n      <td>3794</td>\n      <td>3774</td>\n      <td>223</td>\n      <td>2</td>\n      <td>activa</td>\n      <td>16.923767</td>\n      <td>20</td>\n      <td>446</td>\n      <td>-3328</td>\n      <td>0.000786</td>\n      <td>Percentile 25</td>\n    </tr>\n    <tr>\n      <th>3</th>\n      <td>1431</td>\n      <td>1414</td>\n      <td>102</td>\n      <td>17</td>\n      <td>activa</td>\n      <td>13.862745</td>\n      <td>17</td>\n      <td>1734</td>\n      <td>320</td>\n      <td>0.003056</td>\n      <td>Percentile 50</td>\n    </tr>\n    <tr>\n      <th>4</th>\n      <td>1934</td>\n      <td>1920</td>\n      <td>161</td>\n      <td>14</td>\n      <td>activa</td>\n      <td>11.925466</td>\n      <td>14</td>\n      <td>2254</td>\n      <td>334</td>\n      <td>0.003972</td>\n      <td>Percentile 75</td>\n    </tr>\n    <tr>\n      <th>...</th>\n      <td>...</td>\n      <td>...</td>\n      <td>...</td>\n      <td>...</td>\n      <td>...</td>\n      <td>...</td>\n      <td>...</td>\n      <td>...</td>\n      <td>...</td>\n      <td>...</td>\n      <td>...</td>\n    </tr>\n    <tr>\n      <th>245</th>\n      <td>540</td>\n      <td>536</td>\n      <td>135</td>\n      <td>4</td>\n      <td>activa</td>\n      <td>3.970370</td>\n      <td>4</td>\n      <td>540</td>\n      <td>4</td>\n      <td>0.000952</td>\n      <td>Percentile 25</td>\n    </tr>\n    <tr>\n      <th>246</th>\n      <td>2844</td>\n      <td>2820</td>\n      <td>142</td>\n      <td>18</td>\n      <td>liquidación</td>\n      <td>19.859155</td>\n      <td>24</td>\n      <td>2556</td>\n      <td>-264</td>\n      <td>0.004504</td>\n      <td>Percentile 75</td>\n    </tr>\n    <tr>\n      <th>247</th>\n      <td>2741</td>\n      <td>2712</td>\n      <td>114</td>\n      <td>3</td>\n      <td>activa</td>\n      <td>23.789474</td>\n      <td>29</td>\n      <td>342</td>\n      <td>-2370</td>\n      <td>0.000603</td>\n      <td>Percentile 25</td>\n    </tr>\n    <tr>\n      <th>248</th>\n      <td>2125</td>\n      <td>2100</td>\n      <td>101</td>\n      <td>21</td>\n      <td>activa</td>\n      <td>20.792079</td>\n      <td>25</td>\n      <td>2121</td>\n      <td>21</td>\n      <td>0.003737</td>\n      <td>Percentile 75</td>\n    </tr>\n    <tr>\n      <th>249</th>\n      <td>2884</td>\n      <td>2860</td>\n      <td>144</td>\n      <td>24</td>\n      <td>activa</td>\n      <td>19.861111</td>\n      <td>24</td>\n      <td>3456</td>\n      <td>596</td>\n      <td>0.006090</td>\n      <td>above the 75</td>\n    </tr>\n  </tbody>\n</table>\n<p>250 rows × 11 columns</p>\n</div>"
     },
     "execution_count": 10,
     "metadata": {},
     "output_type": "execute_result"
    }
   ]
  },
  {
   "cell_type": "markdown",
   "source": [
    "## Determine si existen o no diferencias significativas de los costos e ingresos entre empresas en liquidación y activas."
   ],
   "metadata": {
    "id": "ArC5fdMl6OZB"
   }
  },
  {
   "cell_type": "code",
   "source": [
    "X = ['totalCost(q)','Income', 'state']\n",
    "df2 = df[X]\n",
    "dfCompare = df2.copy()\n",
    "dfCompare"
   ],
   "metadata": {
    "colab": {
     "base_uri": "https://localhost:8080/",
     "height": 478
    },
    "id": "Thg4eC4oMNQo",
    "outputId": "e31b906b-d267-4e79-f73d-335b2b11d131",
    "ExecuteTime": {
     "end_time": "2024-04-14T14:41:03.845275Z",
     "start_time": "2024-04-14T14:41:03.691709Z"
    }
   },
   "execution_count": 11,
   "outputs": [
    {
     "data": {
      "text/plain": "     totalCost(q)  Income        state\n0            2000    2424       activa\n1            1464    3496       activa\n2            3774     446       activa\n3            1414    1734       activa\n4            1920    2254       activa\n..            ...     ...          ...\n245           536     540       activa\n246          2820    2556  liquidación\n247          2712     342       activa\n248          2100    2121       activa\n249          2860    3456       activa\n\n[250 rows x 3 columns]",
      "text/html": "<div>\n<style scoped>\n    .dataframe tbody tr th:only-of-type {\n        vertical-align: middle;\n    }\n\n    .dataframe tbody tr th {\n        vertical-align: top;\n    }\n\n    .dataframe thead th {\n        text-align: right;\n    }\n</style>\n<table border=\"1\" class=\"dataframe\">\n  <thead>\n    <tr style=\"text-align: right;\">\n      <th></th>\n      <th>totalCost(q)</th>\n      <th>Income</th>\n      <th>state</th>\n    </tr>\n  </thead>\n  <tbody>\n    <tr>\n      <th>0</th>\n      <td>2000</td>\n      <td>2424</td>\n      <td>activa</td>\n    </tr>\n    <tr>\n      <th>1</th>\n      <td>1464</td>\n      <td>3496</td>\n      <td>activa</td>\n    </tr>\n    <tr>\n      <th>2</th>\n      <td>3774</td>\n      <td>446</td>\n      <td>activa</td>\n    </tr>\n    <tr>\n      <th>3</th>\n      <td>1414</td>\n      <td>1734</td>\n      <td>activa</td>\n    </tr>\n    <tr>\n      <th>4</th>\n      <td>1920</td>\n      <td>2254</td>\n      <td>activa</td>\n    </tr>\n    <tr>\n      <th>...</th>\n      <td>...</td>\n      <td>...</td>\n      <td>...</td>\n    </tr>\n    <tr>\n      <th>245</th>\n      <td>536</td>\n      <td>540</td>\n      <td>activa</td>\n    </tr>\n    <tr>\n      <th>246</th>\n      <td>2820</td>\n      <td>2556</td>\n      <td>liquidación</td>\n    </tr>\n    <tr>\n      <th>247</th>\n      <td>2712</td>\n      <td>342</td>\n      <td>activa</td>\n    </tr>\n    <tr>\n      <th>248</th>\n      <td>2100</td>\n      <td>2121</td>\n      <td>activa</td>\n    </tr>\n    <tr>\n      <th>249</th>\n      <td>2860</td>\n      <td>3456</td>\n      <td>activa</td>\n    </tr>\n  </tbody>\n</table>\n<p>250 rows × 3 columns</p>\n</div>"
     },
     "execution_count": 11,
     "metadata": {},
     "output_type": "execute_result"
    }
   ]
  },
  {
   "cell_type": "code",
   "source": [
    "\n",
    "# Algortihm Table One\n",
    "from tableone  import TableOne, load_dataset\n",
    "from scipy import stats\n",
    "categorial = []\n",
    "nonormal   = []\n",
    "normal     = []\n",
    "for t in df2.columns:\n",
    "    print(dfCompare[t].dtypes, t)\n",
    "    if dfCompare[t].dtypes==\"object\" or dfCompare[t].dtypes.name=='category':\n",
    "        categorial.append(t)\n",
    "    if dfCompare[t].dtypes==\"int64\" or dfCompare[t].dtypes==\"float64\":\n",
    "            n,p = stats.shapiro(dfCompare[t])\n",
    "            if p<0.05:\n",
    "                nonormal.append(t)\n",
    "            else:\n",
    "                normal.append(t)\n",
    "\n",
    "print(len(dfCompare.columns))\n",
    "print(len(normal) + len(nonormal) + len(categorial))\n",
    "mytable = TableOne(dfCompare,categorical=categorial, nonnormal=nonormal, pval=True, groupby='state')\n",
    "mytable\n",
    "mytable.to_excel('tableOne.xlsx')"
   ],
   "metadata": {
    "colab": {
     "base_uri": "https://localhost:8080/"
    },
    "id": "OY9X0xMWNw65",
    "outputId": "84483fde-1be5-4760-ac93-b975acf707c7",
    "ExecuteTime": {
     "end_time": "2024-04-14T14:42:54.759594Z",
     "start_time": "2024-04-14T14:42:54.676036Z"
    }
   },
   "execution_count": 13,
   "outputs": [
    {
     "name": "stdout",
     "output_type": "stream",
     "text": [
      "int64 totalCost(q)\n",
      "int64 Income\n",
      "object state\n",
      "3\n",
      "3\n"
     ]
    }
   ]
  },
  {
   "cell_type": "code",
   "outputs": [],
   "source": [],
   "metadata": {
    "collapsed": false
   }
  }
 ]
}
